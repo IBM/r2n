{
 "cells": [
  {
   "cell_type": "code",
   "execution_count": 1,
   "metadata": {},
   "outputs": [],
   "source": [
    "import sys\n",
    "sys.path.append('../../')\n",
    "import aix360i.algorithms.rule_induction.r2n.simple_rulenet as rn\n",
    "import aix360i.algorithms.rule_induction.r2n.base as base\n",
    "import aix360i.algorithms.rule_induction.r2n.utilities as util\n",
    "import aix360i.algorithms.rule_induction.r2n.preprocessing_layers as ul\n",
    "import aix360i.algorithms.rule_induction.r2n.r2n_algo as algo\n",
    "from aix360i.algorithms.rule_induction.r2n.training import train as train_R2N\n",
    "import aix360i.algorithms.rule_induction.trxf.core.utils as trxfutils"
   ]
  },
  {
   "cell_type": "code",
   "execution_count": 2,
   "metadata": {},
   "outputs": [],
   "source": [
    "from sklearn.model_selection import train_test_split\n",
    "import pandas as pd\n",
    "import torch\n",
    "from torch import nn\n",
    "from torch.utils.data import DataLoader, Dataset\n",
    "from sklearn.preprocessing import StandardScaler\n",
    "\n",
    "import numpy as np\n",
    "import matplotlib.pylab as plt\n",
    "\n",
    "\n",
    "%load_ext autoreload\n",
    "%autoreload 2"
   ]
  },
  {
   "cell_type": "code",
   "execution_count": 3,
   "metadata": {},
   "outputs": [],
   "source": [
    "data_loc = 'data/input_data_0.npy'\n",
    "np_data = np.load(data_loc)"
   ]
  },
  {
   "cell_type": "code",
   "execution_count": 4,
   "metadata": {},
   "outputs": [],
   "source": [
    "name_lead_measurements = [\"P Ons\", \"P Dur\", \"QRS Ons\", \"QRS Dur\", \"ST80 Amp\", \"Q Dur\", \"R Dur\",\n",
    "       \"S Dur\", \"R' Dur\", \"S' Dur\", \"R'' Dur\", \"S'' Dur\", \"ST Dur\", \"T Ons\",\n",
    "       \"T Dur\", \"P+ Dur\", \"T+ Dur\", \"QRS IntD\", \"P+ Amp\", \"P- Amp\", \"P2P Amp\",\n",
    "       \"Q Amp\", \"R Amp\", \"S Amp\", \"R' Amp\", \"S' Amp\", \"R'' Amp\", \"S'' Amp\",\n",
    "       \"ST Amp\", \"STT28 Amp\", \"STT38 Amp\", \"T+ Amp\", \"T- Amp\", \"QRS Area\",\n",
    "       \"P Area\", \"T Area\", \"P Morph\", \"T Morph\", \"R Notch\", \"DeltaConf\",\n",
    "       \"ST Slope\", \"QT Int\", \"PR AMP\", \"ST AMPAdj\"]\n",
    "\n",
    "name_lead = [\"I\",\"II\",\"III\",\"aVR\",\"aVL\",\"aVF\",\"V1\",\"V2\",\"V3\",\"V4\",\"V5\",\"V6\"]\n",
    "\n",
    "array_names = []\n",
    "for i in range(len(name_lead_measurements)):\n",
    "    for j in range(len(name_lead)):\n",
    "            # array_names.append('X'+signal_names[j] + '-Y' + signal_names[i])\n",
    "            array_names.append(name_lead_measurements[i] + '_' + name_lead[j])\n",
    "\n",
    "array_names.extend([\"age\",\"sex\"])\n",
    "array_names=  [x.replace(\" \",\"_\") for x in array_names]\n"
   ]
  },
  {
   "cell_type": "code",
   "execution_count": 5,
   "metadata": {},
   "outputs": [
    {
     "name": "stdout",
     "output_type": "stream",
     "text": [
      "Nb ECGs with LVH : 3712 out of 42574\n"
     ]
    }
   ],
   "source": [
    "X = np_data[:,:-1]\n",
    "y = np_data[:,-1]\n",
    "print(f\"Nb ECGs with LVH : {np.sum(y)} out of {X.shape[0]}\")\n",
    "df_X = pd.DataFrame(X, columns=array_names)\n",
    "\n",
    "train_x, test_x, train_y, test_y = train_test_split(df_X, y, test_size=0.2, random_state=1234)"
   ]
  },
  {
   "cell_type": "code",
   "execution_count": 6,
   "metadata": {},
   "outputs": [
    {
     "data": {
      "text/plain": [
       "P_Ons_I         float64\n",
       "P_Ons_II        float64\n",
       "P_Ons_III       float64\n",
       "P_Ons_aVR       float64\n",
       "P_Ons_aVL       float64\n",
       "                 ...   \n",
       "ST_AMPAdj_V4    float64\n",
       "ST_AMPAdj_V5    float64\n",
       "ST_AMPAdj_V6    float64\n",
       "age             float64\n",
       "sex               int64\n",
       "Length: 530, dtype: object"
      ]
     },
     "execution_count": 6,
     "metadata": {},
     "output_type": "execute_result"
    }
   ],
   "source": [
    "# train_x = train_x.apply(pd.to_numeric, errors='coerce', downcast='float')\n",
    "train_x = train_x.astype(np.float64)\n",
    "train_x['sex'] = train_x['sex'].astype(np.int)\n",
    "train_x.dtypes"
   ]
  },
  {
   "cell_type": "code",
   "execution_count": 7,
   "metadata": {},
   "outputs": [],
   "source": [
    "from sklearn.preprocessing import StandardScaler\n",
    "from sklearn.feature_selection import mutual_info_classif"
   ]
  },
  {
   "cell_type": "code",
   "execution_count": 8,
   "metadata": {},
   "outputs": [],
   "source": [
    "scaler = StandardScaler()\n",
    "X_train = scaler.fit_transform(np.array(train_x)[:,:-1])\n",
    "X_train = np.concatenate((X_train,np.array(train_x)[:,-1].reshape(-1,1)),axis=1)"
   ]
  },
  {
   "cell_type": "code",
   "execution_count": null,
   "metadata": {},
   "outputs": [],
   "source": []
  },
  {
   "cell_type": "code",
   "execution_count": 9,
   "metadata": {},
   "outputs": [],
   "source": [
    "solution = mutual_info_classif(train_x, train_y)"
   ]
  },
  {
   "cell_type": "code",
   "execution_count": 10,
   "metadata": {},
   "outputs": [
    {
     "data": {
      "text/plain": [
       "[<matplotlib.lines.Line2D at 0x7f98f8ad6da0>]"
      ]
     },
     "execution_count": 10,
     "metadata": {},
     "output_type": "execute_result"
    },
    {
     "data": {
      "image/png": "[encoded data removed]",
      "text/plain": [
       "<Figure size 432x288 with 1 Axes>"
      ]
     },
     "metadata": {
      "needs_background": "light"
     },
     "output_type": "display_data"
    }
   ],
   "source": [
    "plt.plot(solution,'o')"
   ]
  },
  {
   "cell_type": "code",
   "execution_count": 11,
   "metadata": {},
   "outputs": [],
   "source": [
    "# Use this value to play with the cutoff \n",
    "mask_solution = solution>0.02"
   ]
  },
  {
   "cell_type": "code",
   "execution_count": 12,
   "metadata": {},
   "outputs": [
    {
     "data": {
      "text/plain": [
       "44"
      ]
     },
     "execution_count": 12,
     "metadata": {},
     "output_type": "execute_result"
    }
   ],
   "source": [
    "np.count_nonzero(mask_solution)"
   ]
  },
  {
   "cell_type": "code",
   "execution_count": 13,
   "metadata": {},
   "outputs": [],
   "source": [
    "train_y = 1 - train_y\n",
    "train_y = pd.DataFrame(train_y, columns=['Label'])"
   ]
  },
  {
   "cell_type": "code",
   "execution_count": 14,
   "metadata": {},
   "outputs": [],
   "source": [
    "sparse_train_x = train_x.loc[:,mask_solution]\n",
    "sparse_train_x = pd.concat([sparse_train_x,train_x['sex']],axis=1)"
   ]
  },
  {
   "cell_type": "code",
   "execution_count": 15,
   "metadata": {},
   "outputs": [],
   "source": [
    "R2run = algo.R2Nalgo(n_seeds=4, decay_rate=0.97, coef = 10**-5, normalize_num=True)"
   ]
  },
  {
   "cell_type": "code",
   "execution_count": 16,
   "metadata": {
    "tags": []
   },
   "outputs": [
    {
     "name": "stdout",
     "output_type": "stream",
     "text": [
      "44 numerical features and  1 categorical features\n",
      "---------\n",
      "2 categorical dummies\n",
      "---------\n",
      "Epoch: 0 Success rate: 8.7 Loss: 311.32690 Temperature: 9.7e-01\n",
      "Epoch: 10 Success rate: 90.6 Loss: 32.07998 Temperature: 7.2e-01\n",
      "Epoch: 20 Success rate: 91.3 Loss: 29.98036 Temperature: 5.3e-01\n",
      "Epoch: 30 Success rate: 91.3 Loss: 29.80928 Temperature: 3.9e-01\n",
      "Epoch: 40 Success rate: 91.3 Loss: 29.80034 Temperature: 2.9e-01\n",
      "Epoch: 50 Success rate: 91.3 Loss: 29.79225 Temperature: 2.1e-01\n",
      "Epoch: 60 Success rate: 91.3 Loss: 29.78487 Temperature: 1.6e-01\n",
      "Epoch: 70 Success rate: 91.3 Loss: 29.77788 Temperature: 1.2e-01\n",
      "Epoch: 80 Success rate: 91.3 Loss: 29.77129 Temperature: 8.5e-02\n",
      "Epoch: 90 Success rate: 91.3 Loss: 29.76503 Temperature: 6.3e-02\n",
      "Epoch: 100 Success rate: 91.3 Loss: 29.75938 Temperature: 4.6e-02\n",
      "Epoch: 110 Success rate: 91.3 Loss: 29.75419 Temperature: 3.4e-02\n",
      "Epoch: 120 Success rate: 91.3 Loss: 29.74943 Temperature: 2.5e-02\n",
      "Epoch: 130 Success rate: 91.3 Loss: 29.74522 Temperature: 1.8e-02\n",
      "Epoch: 140 Success rate: 91.3 Loss: 29.74147 Temperature: 1.4e-02\n",
      "Epoch: 150 Success rate: 91.3 Loss: 29.73804 Temperature: 1.0e-02\n",
      "Epoch: 160 Success rate: 91.3 Loss: 29.73498 Temperature: 7.4e-03\n",
      "Epoch: 170 Success rate: 91.3 Loss: 29.73238 Temperature: 5.5e-03\n",
      "Epoch: 180 Success rate: 91.3 Loss: 29.73009 Temperature: 4.0e-03\n",
      "Epoch: 190 Success rate: 91.3 Loss: 29.72795 Temperature: 3.0e-03\n",
      "Epoch: 200 Success rate: 91.3 Loss: 29.72605 Temperature: 2.2e-03\n",
      "Epoch: 210 Success rate: 91.3 Loss: 29.72441 Temperature: 1.6e-03\n",
      "Epoch: 220 Success rate: 91.3 Loss: 29.72303 Temperature: 1.2e-03\n",
      "Epoch: 230 Success rate: 91.3 Loss: 29.72178 Temperature: 8.8e-04\n",
      "Epoch: 240 Success rate: 91.3 Loss: 29.72068 Temperature: 6.5e-04\n",
      "Epoch: 250 Success rate: 91.3 Loss: 29.71975 Temperature: 4.8e-04\n",
      "Epoch: 260 Success rate: 91.3 Loss: 29.71898 Temperature: 3.5e-04\n",
      "Epoch: 270 Success rate: 91.3 Loss: 29.71832 Temperature: 2.6e-04\n",
      "Epoch: 280 Success rate: 91.3 Loss: 29.71773 Temperature: 1.9e-04\n",
      "Epoch: 290 Success rate: 91.3 Loss: 29.71720 Temperature: 1.4e-04\n",
      "Epoch: 300 Success rate: 91.3 Loss: 29.71672 Temperature: 1.0e-04\n",
      "Epoch: 310 Success rate: 91.3 Loss: 29.71628 Temperature: 9.8e-05\n",
      "Epoch: 320 Success rate: 91.3 Loss: 29.71589 Temperature: 9.8e-05\n",
      "Epoch: 330 Success rate: 91.3 Loss: 29.71558 Temperature: 9.8e-05\n",
      "Epoch: 340 Success rate: 91.3 Loss: 29.71529 Temperature: 9.8e-05\n",
      "Epoch: 350 Success rate: 91.3 Loss: 29.71503 Temperature: 9.8e-05\n",
      "Epoch: 360 Success rate: 91.3 Loss: 29.71480 Temperature: 9.8e-05\n",
      "---------\n",
      "Epoch: 0 Success rate: 8.7 Loss: 311.32690 Temperature: 9.7e-01\n",
      "Epoch: 10 Success rate: 90.6 Loss: 32.07998 Temperature: 7.2e-01\n",
      "Epoch: 20 Success rate: 91.3 Loss: 29.98036 Temperature: 5.3e-01\n",
      "Epoch: 30 Success rate: 91.3 Loss: 29.80928 Temperature: 3.9e-01\n",
      "Epoch: 40 Success rate: 91.3 Loss: 29.80034 Temperature: 2.9e-01\n",
      "Epoch: 50 Success rate: 91.3 Loss: 29.79225 Temperature: 2.1e-01\n",
      "Epoch: 60 Success rate: 91.3 Loss: 29.78487 Temperature: 1.6e-01\n",
      "Epoch: 70 Success rate: 91.3 Loss: 29.77788 Temperature: 1.2e-01\n",
      "Epoch: 80 Success rate: 91.3 Loss: 29.77129 Temperature: 8.5e-02\n",
      "Epoch: 90 Success rate: 91.3 Loss: 29.76503 Temperature: 6.3e-02\n",
      "Epoch: 100 Success rate: 91.3 Loss: 29.75938 Temperature: 4.6e-02\n",
      "Epoch: 110 Success rate: 91.3 Loss: 29.75419 Temperature: 3.4e-02\n",
      "Epoch: 120 Success rate: 91.3 Loss: 29.74943 Temperature: 2.5e-02\n",
      "Epoch: 130 Success rate: 91.3 Loss: 29.74522 Temperature: 1.8e-02\n",
      "Epoch: 140 Success rate: 91.3 Loss: 29.74147 Temperature: 1.4e-02\n",
      "Epoch: 150 Success rate: 91.3 Loss: 29.73804 Temperature: 1.0e-02\n",
      "Epoch: 160 Success rate: 91.3 Loss: 29.73498 Temperature: 7.4e-03\n",
      "Epoch: 170 Success rate: 91.3 Loss: 29.73238 Temperature: 5.5e-03\n",
      "Epoch: 180 Success rate: 91.3 Loss: 29.73009 Temperature: 4.0e-03\n",
      "Epoch: 190 Success rate: 91.3 Loss: 29.72795 Temperature: 3.0e-03\n",
      "Epoch: 200 Success rate: 91.3 Loss: 29.72605 Temperature: 2.2e-03\n",
      "Epoch: 210 Success rate: 91.3 Loss: 29.72441 Temperature: 1.6e-03\n",
      "Epoch: 220 Success rate: 91.3 Loss: 29.72303 Temperature: 1.2e-03\n",
      "Epoch: 230 Success rate: 91.3 Loss: 29.72178 Temperature: 8.8e-04\n",
      "Epoch: 240 Success rate: 91.3 Loss: 29.72068 Temperature: 6.5e-04\n",
      "Epoch: 250 Success rate: 91.3 Loss: 29.71975 Temperature: 4.8e-04\n",
      "Epoch: 260 Success rate: 91.3 Loss: 29.71898 Temperature: 3.5e-04\n",
      "Epoch: 270 Success rate: 91.3 Loss: 29.71832 Temperature: 2.6e-04\n",
      "Epoch: 280 Success rate: 91.3 Loss: 29.71773 Temperature: 1.9e-04\n",
      "Epoch: 290 Success rate: 91.3 Loss: 29.71720 Temperature: 1.4e-04\n",
      "Epoch: 300 Success rate: 91.3 Loss: 29.71672 Temperature: 1.0e-04\n",
      "Epoch: 310 Success rate: 91.3 Loss: 29.71628 Temperature: 9.8e-05\n",
      "Epoch: 320 Success rate: 91.3 Loss: 29.71589 Temperature: 9.8e-05\n",
      "Epoch: 330 Success rate: 91.3 Loss: 29.71558 Temperature: 9.8e-05\n",
      "Epoch: 340 Success rate: 91.3 Loss: 29.71529 Temperature: 9.8e-05\n",
      "Epoch: 350 Success rate: 91.3 Loss: 29.71503 Temperature: 9.8e-05\n",
      "Epoch: 360 Success rate: 91.3 Loss: 29.71480 Temperature: 9.8e-05\n",
      "---------\n",
      "Epoch: 0 Success rate: 8.7 Loss: 311.32690 Temperature: 9.7e-01\n",
      "Epoch: 10 Success rate: 90.6 Loss: 32.07998 Temperature: 7.2e-01\n",
      "Epoch: 20 Success rate: 91.3 Loss: 29.98036 Temperature: 5.3e-01\n",
      "Epoch: 30 Success rate: 91.3 Loss: 29.80928 Temperature: 3.9e-01\n",
      "Epoch: 40 Success rate: 91.3 Loss: 29.80034 Temperature: 2.9e-01\n",
      "Epoch: 50 Success rate: 91.3 Loss: 29.79225 Temperature: 2.1e-01\n",
      "Epoch: 60 Success rate: 91.3 Loss: 29.78487 Temperature: 1.6e-01\n",
      "Epoch: 70 Success rate: 91.3 Loss: 29.77788 Temperature: 1.2e-01\n",
      "Epoch: 80 Success rate: 91.3 Loss: 29.77129 Temperature: 8.5e-02\n",
      "Epoch: 90 Success rate: 91.3 Loss: 29.76503 Temperature: 6.3e-02\n",
      "Epoch: 100 Success rate: 91.3 Loss: 29.75938 Temperature: 4.6e-02\n",
      "Epoch: 110 Success rate: 91.3 Loss: 29.75419 Temperature: 3.4e-02\n",
      "Epoch: 120 Success rate: 91.3 Loss: 29.74943 Temperature: 2.5e-02\n",
      "Epoch: 130 Success rate: 91.3 Loss: 29.74522 Temperature: 1.8e-02\n",
      "Epoch: 140 Success rate: 91.3 Loss: 29.74147 Temperature: 1.4e-02\n",
      "Epoch: 150 Success rate: 91.3 Loss: 29.73804 Temperature: 1.0e-02\n",
      "Epoch: 160 Success rate: 91.3 Loss: 29.73498 Temperature: 7.4e-03\n",
      "Epoch: 170 Success rate: 91.3 Loss: 29.73238 Temperature: 5.5e-03\n",
      "Epoch: 180 Success rate: 91.3 Loss: 29.73009 Temperature: 4.0e-03\n",
      "Epoch: 190 Success rate: 91.3 Loss: 29.72795 Temperature: 3.0e-03\n",
      "Epoch: 200 Success rate: 91.3 Loss: 29.72605 Temperature: 2.2e-03\n",
      "Epoch: 210 Success rate: 91.3 Loss: 29.72441 Temperature: 1.6e-03\n",
      "Epoch: 220 Success rate: 91.3 Loss: 29.72303 Temperature: 1.2e-03\n",
      "Epoch: 230 Success rate: 91.3 Loss: 29.72178 Temperature: 8.8e-04\n",
      "Epoch: 240 Success rate: 91.3 Loss: 29.72068 Temperature: 6.5e-04\n",
      "Epoch: 250 Success rate: 91.3 Loss: 29.71975 Temperature: 4.8e-04\n",
      "Epoch: 260 Success rate: 91.3 Loss: 29.71898 Temperature: 3.5e-04\n",
      "Epoch: 270 Success rate: 91.3 Loss: 29.71832 Temperature: 2.6e-04\n",
      "Epoch: 280 Success rate: 91.3 Loss: 29.71773 Temperature: 1.9e-04\n",
      "Epoch: 290 Success rate: 91.3 Loss: 29.71720 Temperature: 1.4e-04\n",
      "Epoch: 300 Success rate: 91.3 Loss: 29.71672 Temperature: 1.0e-04\n",
      "Epoch: 310 Success rate: 91.3 Loss: 29.71628 Temperature: 9.8e-05\n",
      "Epoch: 320 Success rate: 91.3 Loss: 29.71589 Temperature: 9.8e-05\n",
      "Epoch: 330 Success rate: 91.3 Loss: 29.71558 Temperature: 9.8e-05\n",
      "Epoch: 340 Success rate: 91.3 Loss: 29.71529 Temperature: 9.8e-05\n",
      "Epoch: 350 Success rate: 91.3 Loss: 29.71503 Temperature: 9.8e-05\n",
      "Epoch: 360 Success rate: 91.3 Loss: 29.71480 Temperature: 9.8e-05\n",
      "---------\n",
      "Epoch: 0 Success rate: 8.7 Loss: 311.32690 Temperature: 9.7e-01\n",
      "Epoch: 10 Success rate: 90.6 Loss: 32.07998 Temperature: 7.2e-01\n",
      "Epoch: 20 Success rate: 91.3 Loss: 29.98036 Temperature: 5.3e-01\n",
      "Epoch: 30 Success rate: 91.3 Loss: 29.80928 Temperature: 3.9e-01\n",
      "Epoch: 40 Success rate: 91.3 Loss: 29.80034 Temperature: 2.9e-01\n",
      "Epoch: 50 Success rate: 91.3 Loss: 29.79225 Temperature: 2.1e-01\n",
      "Epoch: 60 Success rate: 91.3 Loss: 29.78487 Temperature: 1.6e-01\n",
      "Epoch: 70 Success rate: 91.3 Loss: 29.77788 Temperature: 1.2e-01\n",
      "Epoch: 80 Success rate: 91.3 Loss: 29.77129 Temperature: 8.5e-02\n",
      "Epoch: 90 Success rate: 91.3 Loss: 29.76503 Temperature: 6.3e-02\n",
      "Epoch: 100 Success rate: 91.3 Loss: 29.75938 Temperature: 4.6e-02\n",
      "Epoch: 110 Success rate: 91.3 Loss: 29.75419 Temperature: 3.4e-02\n",
      "Epoch: 120 Success rate: 91.3 Loss: 29.74943 Temperature: 2.5e-02\n",
      "Epoch: 130 Success rate: 91.3 Loss: 29.74522 Temperature: 1.8e-02\n",
      "Epoch: 140 Success rate: 91.3 Loss: 29.74147 Temperature: 1.4e-02\n",
      "Epoch: 150 Success rate: 91.3 Loss: 29.73804 Temperature: 1.0e-02\n",
      "Epoch: 160 Success rate: 91.3 Loss: 29.73498 Temperature: 7.4e-03\n",
      "Epoch: 170 Success rate: 91.3 Loss: 29.73238 Temperature: 5.5e-03\n",
      "Epoch: 180 Success rate: 91.3 Loss: 29.73009 Temperature: 4.0e-03\n",
      "Epoch: 190 Success rate: 91.3 Loss: 29.72795 Temperature: 3.0e-03\n",
      "Epoch: 200 Success rate: 91.3 Loss: 29.72605 Temperature: 2.2e-03\n",
      "Epoch: 210 Success rate: 91.3 Loss: 29.72441 Temperature: 1.6e-03\n",
      "Epoch: 220 Success rate: 91.3 Loss: 29.72303 Temperature: 1.2e-03\n",
      "Epoch: 230 Success rate: 91.3 Loss: 29.72178 Temperature: 8.8e-04\n",
      "Epoch: 240 Success rate: 91.3 Loss: 29.72068 Temperature: 6.5e-04\n",
      "Epoch: 250 Success rate: 91.3 Loss: 29.71975 Temperature: 4.8e-04\n",
      "Epoch: 260 Success rate: 91.3 Loss: 29.71898 Temperature: 3.5e-04\n",
      "Epoch: 270 Success rate: 91.3 Loss: 29.71832 Temperature: 2.6e-04\n",
      "Epoch: 280 Success rate: 91.3 Loss: 29.71773 Temperature: 1.9e-04\n",
      "Epoch: 290 Success rate: 91.3 Loss: 29.71720 Temperature: 1.4e-04\n",
      "Epoch: 300 Success rate: 91.3 Loss: 29.71672 Temperature: 1.0e-04\n",
      "Epoch: 310 Success rate: 91.3 Loss: 29.71628 Temperature: 9.8e-05\n",
      "Epoch: 320 Success rate: 91.3 Loss: 29.71589 Temperature: 9.8e-05\n",
      "Epoch: 330 Success rate: 91.3 Loss: 29.71558 Temperature: 9.8e-05\n",
      "Epoch: 340 Success rate: 91.3 Loss: 29.71529 Temperature: 9.8e-05\n",
      "Epoch: 350 Success rate: 91.3 Loss: 29.71503 Temperature: 9.8e-05\n",
      "Epoch: 360 Success rate: 91.3 Loss: 29.71480 Temperature: 9.8e-05\n",
      "---------\n",
      "Max performance of the network: 91.28739002932551\n"
     ]
    }
   ],
   "source": [
    "R2run.fit(sparse_train_x, train_y)"
   ]
  },
  {
   "cell_type": "code",
   "execution_count": 54,
   "metadata": {},
   "outputs": [],
   "source": [
    "test_x = test_x.astype(np.float64)\n",
    "prediction = R2run.predict(test_x)"
   ]
  },
  {
   "cell_type": "code",
   "execution_count": 55,
   "metadata": {},
   "outputs": [
    {
     "data": {
      "text/plain": [
       "[array([0, 0, 0, 0, 1, 0, 0, 0, 0, 1]),\n",
       " array([0, 0, 1, 0, 1, 0, 1, 0, 0, 0]),\n",
       " array([1, 0, 0, 0, 0, 0, 1, 0, 1, 0]),\n",
       " array([1, 1, 0, 1, 0, 0, 0, 0, 0, 0]),\n",
       " array([0, 0, 1, 1, 0, 0, 0, 1, 0, 0]),\n",
       " array([0, 0, 0, 1, 0, 0, 0, 0, 1, 0])]"
      ]
     },
     "execution_count": 55,
     "metadata": {},
     "output_type": "execute_result"
    }
   ],
   "source": [
    "R2run.opt_rule"
   ]
  },
  {
   "cell_type": "code",
   "execution_count": 56,
   "metadata": {},
   "outputs": [
    {
     "data": {
      "text/plain": [
       "0.9130945390487375"
      ]
     },
     "execution_count": 56,
     "metadata": {},
     "output_type": "execute_result"
    }
   ],
   "source": [
    "np.count_nonzero(np.array(prediction).flatten() == np.array(test_y).flatten())/len(test_y)"
   ]
  },
  {
   "cell_type": "code",
   "execution_count": 35,
   "metadata": {},
   "outputs": [
    {
     "name": "stdout",
     "output_type": "stream",
     "text": [
      "if\n",
      "([-0.00010056664*ST80_Amp_I - 0.000101859994*ST80_Amp_V5 - 0.00024119495*R_Dur_I - 8.721164e-05*QRS_IntD_I + 5.1712366e-05*P2P_Amp_aVR + 6.545362e-05*P2P_Amp_V1 - 8.396469e-05*P2P_Amp_V6 - 3.9777125e-05*R_Amp_V4 + 0.00012787378*R_Amp_V5 - 5.92361e-05*S_Amp_III - 8.73958e-05*S_Amp_aVR + 0.00012432846*ST_Amp_V1 + 5.262844e-05*ST_Amp_V6 - 0.0001360237*STT28_Amp_I + 0.00010558781*STT28_Amp_V1 - 3.3289027e-05*STT28_Amp_V5 - 6.536341e-05*STT38_Amp_V5 + 5.6779772e-05*QRS_Area_aVR - 4.6962254e-05*QRS_Area_V1 + 3.760358e-05*QRS_Area_V5 + 6.576246e-05*QRS_Area_V6 - 1.6378328e-05*T_Area_V5 - 5.1170093e-05*T_Area_V6 - 0.81950766 >= 0] ^ [-0.00011432299*ST80_Amp_V1 - 0.00010176614*ST80_Amp_V5 - 2.8069784e-05*R_Dur_I + 2.566415e-05*P2P_Amp_I - 0.00010578087*P2P_Amp_III - 3.7113583e-05*P2P_Amp_V1 + 1.4559015e-05*P2P_Amp_V4 - 5.4897024e-05*P2P_Amp_V6 + 6.2364976e-05*R_Amp_I + 2.5675385e-05*R_Amp_aVL - 3.464403e-05*R_Amp_V4 + 8.907621e-05*R_Amp_V5 - 4.4649732e-05*R_Amp_V6 - 1.7061762e-05*S_Amp_III - 0.00020741593*S_Amp_aVR - 0.00014144507*S_Amp_V1 - 3.709276e-05*STT28_Amp_V1 + 4.0754276e-05*QRS_Area_I - 4.6123303e-05*QRS_Area_aVR + 5.219866e-05*QRS_Area_aVL + 1.1554456e-05*QRS_Area_V1 + 4.149119e-05*QRS_Area_V5 - 1.1878449e-05*QRS_Area_V6 - 5.0654005e-05*T_Area_V5 - 3.709256e-05*T_Area_V6 - 0.62777406 >= 0] ^ [-5.8346155e-05*P2P_Amp_I - 3.942234e-05*P2P_Amp_aVL + 0.00026907117*P2P_Amp_V1 + 4.951606e-05*P2P_Amp_V4 + 0.00010505863*P2P_Amp_V5 + 4.052803e-05*P2P_Amp_V6 - 0.0001368774*R_Amp_aVL - 5.403141e-05*R_Amp_V4 + 0.0001618929*R_Amp_V5 + 4.8232083e-05*R_Amp_V6 + 0.00012471504*T-_Amp_V6 + 4.989124e-05*QRS_Area_III + 7.362958e-05*QRS_Area_aVR + 5.4701104e-05*QRS_Area_V1 - 8.436016e-05*QRS_Area_V6 - 3.284413e-05*T_Area_V5 - 0.424558 >= 0] ^ [5.3778294e-05*P2P_Amp_I + 8.2185994e-05*P2P_Amp_III + 0.00013162136*P2P_Amp_aVR + 4.8419977e-05*P2P_Amp_aVL - 6.948945e-05*P2P_Amp_V1 + 3.851474e-05*P2P_Amp_V4 - 2.9826151e-05*P2P_Amp_V5 - 6.171264e-05*P2P_Amp_V6 - 0.00019023675*Q_Amp_aVR + 0.00021848542*R_Amp_I + 0.00013077879*R_Amp_aVL - 3.458821e-05*R_Amp_V4 + 5.542406e-05*R_Amp_V5 - 2.0668385e-05*R_Amp_V6 - 9.0365174e-05*S_Amp_III - 8.2853636e-05*S_Amp_aVR - 8.960251e-05*S_Amp_V1 + 0.00012141575*T-_Amp_V6 + 0.000102137994*QRS_Area_I - 3.5148692e-05*QRS_Area_III - 4.84925e-05*QRS_Area_aVR + 0.00010951972*QRS_Area_aVL + 6.430869e-05*QRS_Area_V1 - 6.0929633e-05*QRS_Area_V6 + 5.3907395e-05*T_Area_V5 + 2.033763e-05*T_Area_V6 - 0.4247951 >= 0]) v\n",
      "([7.081299e-05*ST80_Amp_V1 + 4.993656e-05*ST80_Amp_V5 - 0.00011427019*QRS_IntD_I + 0.00021099755*P2P_Amp_III + 9.1601265e-05*P2P_Amp_aVL - 6.701532e-05*P2P_Amp_V5 + 2.873269e-05*P2P_Amp_V6 + 0.0001350839*R_Amp_I + 0.00013811671*R_Amp_aVL - 3.0186295e-05*R_Amp_V4 - 8.788129e-05*R_Amp_V5 - 5.1860672e-05*ST_Amp_V1 + 0.00024074868*ST_Amp_V6 + 7.207132e-05*STT28_Amp_V1 + 0.000111915855*STT28_Amp_V5 - 5.107729e-05*STT38_Amp_V5 + 5.9509286e-05*QRS_Area_I - 6.260234e-05*QRS_Area_III + 9.7908436e-05*QRS_Area_aVL - 2.1632815e-05*T_Area_V6 - 0.8153427 >= 0] ^ [0.0005149943*ST80_Amp_I - 0.0003380169*R_Dur_I - 0.0006114762*QRS_IntD_I + 4.8976246e-05*P2P_Amp_III + 6.16198e-05*P2P_Amp_V6 + 0.00013370256*R_Amp_I + 0.0001344183*R_Amp_aVL - 5.7093417e-05*R_Amp_V4 - 9.355713e-05*R_Amp_V5 - 4.9869042e-05*S_Amp_III - 0.00016530533*ST_Amp_V1 + 0.00035329384*ST_Amp_V6 + 0.00025840395*STT28_Amp_I - 0.00016514432*STT38_Amp_V5 + 8.8034205e-05*T-_Amp_V6 + 5.566842e-05*QRS_Area_III - 0.00011663499*QRS_Area_aVR - 0.5900303 >= 0] ^ [2.8704095e-05*ST80_Amp_I - 5.5672874e-05*ST80_Amp_V1 + 0.00017621902*P2P_Amp_I + 6.1547835e-05*P2P_Amp_III + 0.00018950888*P2P_Amp_aVR + 0.00016300882*P2P_Amp_aVL + 0.00018755227*P2P_Amp_V1 + 3.794511e-05*P2P_Amp_V4 + 5.49338e-05*P2P_Amp_V5 + 4.1496125e-05*P2P_Amp_V6 - 0.000112383335*Q_Amp_aVR + 0.00023151122*R_Amp_I - 2.0218926e-05*R_Amp_V4 + 0.000116039744*R_Amp_V5 + 6.8464804e-05*R_Amp_V6 - 6.262458e-05*S_Amp_III - 0.00012889088*S_Amp_aVR - 5.5173532e-05*S_Amp_V1 - 2.9379002e-05*ST_Amp_V1 - 2.8516355e-05*STT28_Amp_V1 + 5.5921806e-05*T-_Amp_V6 - 8.867573e-05*QRS_Area_I + 7.78937e-05*QRS_Area_III + 0.00015022639*QRS_Area_aVR - 8.6811524e-05*QRS_Area_aVL + 0.00014013427*QRS_Area_V1 - 6.742815e-05*QRS_Area_V6 - 4.4098015e-05*T_Area_V5 - 2.5473624e-05*T_Area_V6 - 0.33118492 >= 0] ^ [5.3778294e-05*P2P_Amp_I + 8.2185994e-05*P2P_Amp_III + 0.00013162136*P2P_Amp_aVR + 4.8419977e-05*P2P_Amp_aVL - 6.948945e-05*P2P_Amp_V1 + 3.851474e-05*P2P_Amp_V4 - 2.9826151e-05*P2P_Amp_V5 - 6.171264e-05*P2P_Amp_V6 - 0.00019023675*Q_Amp_aVR + 0.00021848542*R_Amp_I + 0.00013077879*R_Amp_aVL - 3.458821e-05*R_Amp_V4 + 5.542406e-05*R_Amp_V5 - 2.0668385e-05*R_Amp_V6 - 9.0365174e-05*S_Amp_III - 8.2853636e-05*S_Amp_aVR - 8.960251e-05*S_Amp_V1 + 0.00012141575*T-_Amp_V6 + 0.000102137994*QRS_Area_I - 3.5148692e-05*QRS_Area_III - 4.84925e-05*QRS_Area_aVR + 0.00010951972*QRS_Area_aVL + 6.430869e-05*QRS_Area_V1 - 6.0929633e-05*QRS_Area_V6 + 5.3907395e-05*T_Area_V5 + 2.033763e-05*T_Area_V6 - 0.4247951 >= 0]) v\n",
      "([-0.00010056664*ST80_Amp_I - 0.000101859994*ST80_Amp_V5 - 0.00024119495*R_Dur_I - 8.721164e-05*QRS_IntD_I + 5.1712366e-05*P2P_Amp_aVR + 6.545362e-05*P2P_Amp_V1 - 8.396469e-05*P2P_Amp_V6 - 3.9777125e-05*R_Amp_V4 + 0.00012787378*R_Amp_V5 - 5.92361e-05*S_Amp_III - 8.73958e-05*S_Amp_aVR + 0.00012432846*ST_Amp_V1 + 5.262844e-05*ST_Amp_V6 - 0.0001360237*STT28_Amp_I + 0.00010558781*STT28_Amp_V1 - 3.3289027e-05*STT28_Amp_V5 - 6.536341e-05*STT38_Amp_V5 + 5.6779772e-05*QRS_Area_aVR - 4.6962254e-05*QRS_Area_V1 + 3.760358e-05*QRS_Area_V5 + 6.576246e-05*QRS_Area_V6 - 1.6378328e-05*T_Area_V5 - 5.1170093e-05*T_Area_V6 - 0.81950766 >= 0] ^ [2.8704095e-05*ST80_Amp_I - 5.5672874e-05*ST80_Amp_V1 + 0.00017621902*P2P_Amp_I + 6.1547835e-05*P2P_Amp_III + 0.00018950888*P2P_Amp_aVR + 0.00016300882*P2P_Amp_aVL + 0.00018755227*P2P_Amp_V1 + 3.794511e-05*P2P_Amp_V4 + 5.49338e-05*P2P_Amp_V5 + 4.1496125e-05*P2P_Amp_V6 - 0.000112383335*Q_Amp_aVR + 0.00023151122*R_Amp_I - 2.0218926e-05*R_Amp_V4 + 0.000116039744*R_Amp_V5 + 6.8464804e-05*R_Amp_V6 - 6.262458e-05*S_Amp_III - 0.00012889088*S_Amp_aVR - 5.5173532e-05*S_Amp_V1 - 2.9379002e-05*ST_Amp_V1 - 2.8516355e-05*STT28_Amp_V1 + 5.5921806e-05*T-_Amp_V6 - 8.867573e-05*QRS_Area_I + 7.78937e-05*QRS_Area_III + 0.00015022639*QRS_Area_aVR - 8.6811524e-05*QRS_Area_aVL + 0.00014013427*QRS_Area_V1 - 6.742815e-05*QRS_Area_V6 - 4.4098015e-05*T_Area_V5 - 2.5473624e-05*T_Area_V6 - 0.33118492 >= 0])\n",
      "then\n",
      "Churn\n"
     ]
    }
   ],
   "source": [
    "print(str(R2run.export_rules_to_trxf_dnf_ruleset(thr=0.1)))"
   ]
  },
  {
   "cell_type": "code",
   "execution_count": 36,
   "metadata": {},
   "outputs": [
    {
     "name": "stdout",
     "output_type": "stream",
     "text": [
      "if\n",
      "([-0.00010056664*ST80_Amp_I - 0.000101859994*ST80_Amp_V5 - 0.00024119495*R_Dur_I - 8.721164e-05*QRS_IntD_I + 5.1712366e-05*P2P_Amp_aVR + 6.545362e-05*P2P_Amp_V1 - 8.396469e-05*P2P_Amp_V6 - 3.9777125e-05*R_Amp_V4 + 0.00012787378*R_Amp_V5 - 5.92361e-05*S_Amp_III - 8.73958e-05*S_Amp_aVR + 0.00012432846*ST_Amp_V1 + 5.262844e-05*ST_Amp_V6 - 0.0001360237*STT28_Amp_I + 0.00010558781*STT28_Amp_V1 - 3.3289027e-05*STT28_Amp_V5 - 6.536341e-05*STT38_Amp_V5 + 5.6779772e-05*QRS_Area_aVR - 4.6962254e-05*QRS_Area_V1 + 3.760358e-05*QRS_Area_V5 + 6.576246e-05*QRS_Area_V6 - 1.6378328e-05*T_Area_V5 - 5.1170093e-05*T_Area_V6 - 0.81950766 >= 0] ^ [-0.00011432299*ST80_Amp_V1 - 0.00010176614*ST80_Amp_V5 - 2.8069784e-05*R_Dur_I + 2.566415e-05*P2P_Amp_I - 0.00010578087*P2P_Amp_III - 3.7113583e-05*P2P_Amp_V1 + 1.4559015e-05*P2P_Amp_V4 - 5.4897024e-05*P2P_Amp_V6 + 6.2364976e-05*R_Amp_I + 2.5675385e-05*R_Amp_aVL - 3.464403e-05*R_Amp_V4 + 8.907621e-05*R_Amp_V5 - 4.4649732e-05*R_Amp_V6 - 1.7061762e-05*S_Amp_III - 0.00020741593*S_Amp_aVR - 0.00014144507*S_Amp_V1 - 3.709276e-05*STT28_Amp_V1 + 4.0754276e-05*QRS_Area_I - 4.6123303e-05*QRS_Area_aVR + 5.219866e-05*QRS_Area_aVL + 1.1554456e-05*QRS_Area_V1 + 4.149119e-05*QRS_Area_V5 - 1.1878449e-05*QRS_Area_V6 - 5.0654005e-05*T_Area_V5 - 3.709256e-05*T_Area_V6 - 0.62777406 >= 0] ^ [-5.8346155e-05*P2P_Amp_I - 3.942234e-05*P2P_Amp_aVL + 0.00026907117*P2P_Amp_V1 + 4.951606e-05*P2P_Amp_V4 + 0.00010505863*P2P_Amp_V5 + 4.052803e-05*P2P_Amp_V6 - 0.0001368774*R_Amp_aVL - 5.403141e-05*R_Amp_V4 + 0.0001618929*R_Amp_V5 + 4.8232083e-05*R_Amp_V6 + 0.00012471504*T-_Amp_V6 + 4.989124e-05*QRS_Area_III + 7.362958e-05*QRS_Area_aVR + 5.4701104e-05*QRS_Area_V1 - 8.436016e-05*QRS_Area_V6 - 3.284413e-05*T_Area_V5 - 0.424558 >= 0] ^ [5.3778294e-05*P2P_Amp_I + 8.2185994e-05*P2P_Amp_III + 0.00013162136*P2P_Amp_aVR + 4.8419977e-05*P2P_Amp_aVL - 6.948945e-05*P2P_Amp_V1 + 3.851474e-05*P2P_Amp_V4 - 2.9826151e-05*P2P_Amp_V5 - 6.171264e-05*P2P_Amp_V6 - 0.00019023675*Q_Amp_aVR + 0.00021848542*R_Amp_I + 0.00013077879*R_Amp_aVL - 3.458821e-05*R_Amp_V4 + 5.542406e-05*R_Amp_V5 - 2.0668385e-05*R_Amp_V6 - 9.0365174e-05*S_Amp_III - 8.2853636e-05*S_Amp_aVR - 8.960251e-05*S_Amp_V1 + 0.00012141575*T-_Amp_V6 + 0.000102137994*QRS_Area_I - 3.5148692e-05*QRS_Area_III - 4.84925e-05*QRS_Area_aVR + 0.00010951972*QRS_Area_aVL + 6.430869e-05*QRS_Area_V1 - 6.0929633e-05*QRS_Area_V6 + 5.3907395e-05*T_Area_V5 + 2.033763e-05*T_Area_V6 - 0.4247951 >= 0]) v\n",
      "([7.081299e-05*ST80_Amp_V1 + 4.993656e-05*ST80_Amp_V5 - 0.00011427019*QRS_IntD_I + 0.00021099755*P2P_Amp_III + 9.1601265e-05*P2P_Amp_aVL - 6.701532e-05*P2P_Amp_V5 + 2.873269e-05*P2P_Amp_V6 + 0.0001350839*R_Amp_I + 0.00013811671*R_Amp_aVL - 3.0186295e-05*R_Amp_V4 - 8.788129e-05*R_Amp_V5 - 5.1860672e-05*ST_Amp_V1 + 0.00024074868*ST_Amp_V6 + 7.207132e-05*STT28_Amp_V1 + 0.000111915855*STT28_Amp_V5 - 5.107729e-05*STT38_Amp_V5 + 5.9509286e-05*QRS_Area_I - 6.260234e-05*QRS_Area_III + 9.7908436e-05*QRS_Area_aVL - 2.1632815e-05*T_Area_V6 - 0.8153427 >= 0] ^ [0.0005149943*ST80_Amp_I - 0.0003380169*R_Dur_I - 0.0006114762*QRS_IntD_I + 4.8976246e-05*P2P_Amp_III + 6.16198e-05*P2P_Amp_V6 + 0.00013370256*R_Amp_I + 0.0001344183*R_Amp_aVL - 5.7093417e-05*R_Amp_V4 - 9.355713e-05*R_Amp_V5 - 4.9869042e-05*S_Amp_III - 0.00016530533*ST_Amp_V1 + 0.00035329384*ST_Amp_V6 + 0.00025840395*STT28_Amp_I - 0.00016514432*STT38_Amp_V5 + 8.8034205e-05*T-_Amp_V6 + 5.566842e-05*QRS_Area_III - 0.00011663499*QRS_Area_aVR - 0.5900303 >= 0] ^ [2.8704095e-05*ST80_Amp_I - 5.5672874e-05*ST80_Amp_V1 + 0.00017621902*P2P_Amp_I + 6.1547835e-05*P2P_Amp_III + 0.00018950888*P2P_Amp_aVR + 0.00016300882*P2P_Amp_aVL + 0.00018755227*P2P_Amp_V1 + 3.794511e-05*P2P_Amp_V4 + 5.49338e-05*P2P_Amp_V5 + 4.1496125e-05*P2P_Amp_V6 - 0.000112383335*Q_Amp_aVR + 0.00023151122*R_Amp_I - 2.0218926e-05*R_Amp_V4 + 0.000116039744*R_Amp_V5 + 6.8464804e-05*R_Amp_V6 - 6.262458e-05*S_Amp_III - 0.00012889088*S_Amp_aVR - 5.5173532e-05*S_Amp_V1 - 2.9379002e-05*ST_Amp_V1 - 2.8516355e-05*STT28_Amp_V1 + 5.5921806e-05*T-_Amp_V6 - 8.867573e-05*QRS_Area_I + 7.78937e-05*QRS_Area_III + 0.00015022639*QRS_Area_aVR - 8.6811524e-05*QRS_Area_aVL + 0.00014013427*QRS_Area_V1 - 6.742815e-05*QRS_Area_V6 - 4.4098015e-05*T_Area_V5 - 2.5473624e-05*T_Area_V6 - 0.33118492 >= 0] ^ [5.3778294e-05*P2P_Amp_I + 8.2185994e-05*P2P_Amp_III + 0.00013162136*P2P_Amp_aVR + 4.8419977e-05*P2P_Amp_aVL - 6.948945e-05*P2P_Amp_V1 + 3.851474e-05*P2P_Amp_V4 - 2.9826151e-05*P2P_Amp_V5 - 6.171264e-05*P2P_Amp_V6 - 0.00019023675*Q_Amp_aVR + 0.00021848542*R_Amp_I + 0.00013077879*R_Amp_aVL - 3.458821e-05*R_Amp_V4 + 5.542406e-05*R_Amp_V5 - 2.0668385e-05*R_Amp_V6 - 9.0365174e-05*S_Amp_III - 8.2853636e-05*S_Amp_aVR - 8.960251e-05*S_Amp_V1 + 0.00012141575*T-_Amp_V6 + 0.000102137994*QRS_Area_I - 3.5148692e-05*QRS_Area_III - 4.84925e-05*QRS_Area_aVR + 0.00010951972*QRS_Area_aVL + 6.430869e-05*QRS_Area_V1 - 6.0929633e-05*QRS_Area_V6 + 5.3907395e-05*T_Area_V5 + 2.033763e-05*T_Area_V6 - 0.4247951 >= 0]) v\n",
      "([-0.00010056664*ST80_Amp_I - 0.000101859994*ST80_Amp_V5 - 0.00024119495*R_Dur_I - 8.721164e-05*QRS_IntD_I + 5.1712366e-05*P2P_Amp_aVR + 6.545362e-05*P2P_Amp_V1 - 8.396469e-05*P2P_Amp_V6 - 3.9777125e-05*R_Amp_V4 + 0.00012787378*R_Amp_V5 - 5.92361e-05*S_Amp_III - 8.73958e-05*S_Amp_aVR + 0.00012432846*ST_Amp_V1 + 5.262844e-05*ST_Amp_V6 - 0.0001360237*STT28_Amp_I + 0.00010558781*STT28_Amp_V1 - 3.3289027e-05*STT28_Amp_V5 - 6.536341e-05*STT38_Amp_V5 + 5.6779772e-05*QRS_Area_aVR - 4.6962254e-05*QRS_Area_V1 + 3.760358e-05*QRS_Area_V5 + 6.576246e-05*QRS_Area_V6 - 1.6378328e-05*T_Area_V5 - 5.1170093e-05*T_Area_V6 - 0.81950766 >= 0] ^ [2.8704095e-05*ST80_Amp_I - 5.5672874e-05*ST80_Amp_V1 + 0.00017621902*P2P_Amp_I + 6.1547835e-05*P2P_Amp_III + 0.00018950888*P2P_Amp_aVR + 0.00016300882*P2P_Amp_aVL + 0.00018755227*P2P_Amp_V1 + 3.794511e-05*P2P_Amp_V4 + 5.49338e-05*P2P_Amp_V5 + 4.1496125e-05*P2P_Amp_V6 - 0.000112383335*Q_Amp_aVR + 0.00023151122*R_Amp_I - 2.0218926e-05*R_Amp_V4 + 0.000116039744*R_Amp_V5 + 6.8464804e-05*R_Amp_V6 - 6.262458e-05*S_Amp_III - 0.00012889088*S_Amp_aVR - 5.5173532e-05*S_Amp_V1 - 2.9379002e-05*ST_Amp_V1 - 2.8516355e-05*STT28_Amp_V1 + 5.5921806e-05*T-_Amp_V6 - 8.867573e-05*QRS_Area_I + 7.78937e-05*QRS_Area_III + 0.00015022639*QRS_Area_aVR - 8.6811524e-05*QRS_Area_aVL + 0.00014013427*QRS_Area_V1 - 6.742815e-05*QRS_Area_V6 - 4.4098015e-05*T_Area_V5 - 2.5473624e-05*T_Area_V6 - 0.33118492 >= 0])\n",
      "then\n",
      "Churn\n"
     ]
    }
   ],
   "source": [
    "print(str(R2run.export_rules_to_trxf_dnf_ruleset(thr=0.1)))"
   ]
  },
  {
   "cell_type": "code",
   "execution_count": 37,
   "metadata": {},
   "outputs": [
    {
     "ename": "ValueError",
     "evalue": "feature names ['ST80_Amp_I', 'R_Dur_I', 'QRS_IntD_I', 'P2P_Amp_III', 'P2P_Amp_V6', 'R_Amp_I', 'R_Amp_aVL', 'R_Amp_V4', 'R_Amp_V5', 'S_Amp_III', 'ST_Amp_V1', 'ST_Amp_V6', 'STT28_Amp_I', 'STT38_Amp_V5', 'T', '_Amp_V6', 'QRS_Area_III', 'QRS_Area_aVR'] must be a subset of the column names ['P_Ons_I', 'P_Ons_II', 'P_Ons_III', 'P_Ons_aVR', 'P_Ons_aVL', 'P_Ons_aVF', 'P_Ons_V1', 'P_Ons_V2', 'P_Ons_V3', 'P_Ons_V4', 'P_Ons_V5', 'P_Ons_V6', 'P_Dur_I', 'P_Dur_II', 'P_Dur_III', 'P_Dur_aVR', 'P_Dur_aVL', 'P_Dur_aVF', 'P_Dur_V1', 'P_Dur_V2', 'P_Dur_V3', 'P_Dur_V4', 'P_Dur_V5', 'P_Dur_V6', 'QRS_Ons_I', 'QRS_Ons_II', 'QRS_Ons_III', 'QRS_Ons_aVR', 'QRS_Ons_aVL', 'QRS_Ons_aVF', 'QRS_Ons_V1', 'QRS_Ons_V2', 'QRS_Ons_V3', 'QRS_Ons_V4', 'QRS_Ons_V5', 'QRS_Ons_V6', 'QRS_Dur_I', 'QRS_Dur_II', 'QRS_Dur_III', 'QRS_Dur_aVR', 'QRS_Dur_aVL', 'QRS_Dur_aVF', 'QRS_Dur_V1', 'QRS_Dur_V2', 'QRS_Dur_V3', 'QRS_Dur_V4', 'QRS_Dur_V5', 'QRS_Dur_V6', 'ST80_Amp_I', 'ST80_Amp_II', 'ST80_Amp_III', 'ST80_Amp_aVR', 'ST80_Amp_aVL', 'ST80_Amp_aVF', 'ST80_Amp_V1', 'ST80_Amp_V2', 'ST80_Amp_V3', 'ST80_Amp_V4', 'ST80_Amp_V5', 'ST80_Amp_V6', 'Q_Dur_I', 'Q_Dur_II', 'Q_Dur_III', 'Q_Dur_aVR', 'Q_Dur_aVL', 'Q_Dur_aVF', 'Q_Dur_V1', 'Q_Dur_V2', 'Q_Dur_V3', 'Q_Dur_V4', 'Q_Dur_V5', 'Q_Dur_V6', 'R_Dur_I', 'R_Dur_II', 'R_Dur_III', 'R_Dur_aVR', 'R_Dur_aVL', 'R_Dur_aVF', 'R_Dur_V1', 'R_Dur_V2', 'R_Dur_V3', 'R_Dur_V4', 'R_Dur_V5', 'R_Dur_V6', 'S_Dur_I', 'S_Dur_II', 'S_Dur_III', 'S_Dur_aVR', 'S_Dur_aVL', 'S_Dur_aVF', 'S_Dur_V1', 'S_Dur_V2', 'S_Dur_V3', 'S_Dur_V4', 'S_Dur_V5', 'S_Dur_V6', \"R'_Dur_I\", \"R'_Dur_II\", \"R'_Dur_III\", \"R'_Dur_aVR\", \"R'_Dur_aVL\", \"R'_Dur_aVF\", \"R'_Dur_V1\", \"R'_Dur_V2\", \"R'_Dur_V3\", \"R'_Dur_V4\", \"R'_Dur_V5\", \"R'_Dur_V6\", \"S'_Dur_I\", \"S'_Dur_II\", \"S'_Dur_III\", \"S'_Dur_aVR\", \"S'_Dur_aVL\", \"S'_Dur_aVF\", \"S'_Dur_V1\", \"S'_Dur_V2\", \"S'_Dur_V3\", \"S'_Dur_V4\", \"S'_Dur_V5\", \"S'_Dur_V6\", \"R''_Dur_I\", \"R''_Dur_II\", \"R''_Dur_III\", \"R''_Dur_aVR\", \"R''_Dur_aVL\", \"R''_Dur_aVF\", \"R''_Dur_V1\", \"R''_Dur_V2\", \"R''_Dur_V3\", \"R''_Dur_V4\", \"R''_Dur_V5\", \"R''_Dur_V6\", \"S''_Dur_I\", \"S''_Dur_II\", \"S''_Dur_III\", \"S''_Dur_aVR\", \"S''_Dur_aVL\", \"S''_Dur_aVF\", \"S''_Dur_V1\", \"S''_Dur_V2\", \"S''_Dur_V3\", \"S''_Dur_V4\", \"S''_Dur_V5\", \"S''_Dur_V6\", 'ST_Dur_I', 'ST_Dur_II', 'ST_Dur_III', 'ST_Dur_aVR', 'ST_Dur_aVL', 'ST_Dur_aVF', 'ST_Dur_V1', 'ST_Dur_V2', 'ST_Dur_V3', 'ST_Dur_V4', 'ST_Dur_V5', 'ST_Dur_V6', 'T_Ons_I', 'T_Ons_II', 'T_Ons_III', 'T_Ons_aVR', 'T_Ons_aVL', 'T_Ons_aVF', 'T_Ons_V1', 'T_Ons_V2', 'T_Ons_V3', 'T_Ons_V4', 'T_Ons_V5', 'T_Ons_V6', 'T_Dur_I', 'T_Dur_II', 'T_Dur_III', 'T_Dur_aVR', 'T_Dur_aVL', 'T_Dur_aVF', 'T_Dur_V1', 'T_Dur_V2', 'T_Dur_V3', 'T_Dur_V4', 'T_Dur_V5', 'T_Dur_V6', 'P+_Dur_I', 'P+_Dur_II', 'P+_Dur_III', 'P+_Dur_aVR', 'P+_Dur_aVL', 'P+_Dur_aVF', 'P+_Dur_V1', 'P+_Dur_V2', 'P+_Dur_V3', 'P+_Dur_V4', 'P+_Dur_V5', 'P+_Dur_V6', 'T+_Dur_I', 'T+_Dur_II', 'T+_Dur_III', 'T+_Dur_aVR', 'T+_Dur_aVL', 'T+_Dur_aVF', 'T+_Dur_V1', 'T+_Dur_V2', 'T+_Dur_V3', 'T+_Dur_V4', 'T+_Dur_V5', 'T+_Dur_V6', 'QRS_IntD_I', 'QRS_IntD_II', 'QRS_IntD_III', 'QRS_IntD_aVR', 'QRS_IntD_aVL', 'QRS_IntD_aVF', 'QRS_IntD_V1', 'QRS_IntD_V2', 'QRS_IntD_V3', 'QRS_IntD_V4', 'QRS_IntD_V5', 'QRS_IntD_V6', 'P+_Amp_I', 'P+_Amp_II', 'P+_Amp_III', 'P+_Amp_aVR', 'P+_Amp_aVL', 'P+_Amp_aVF', 'P+_Amp_V1', 'P+_Amp_V2', 'P+_Amp_V3', 'P+_Amp_V4', 'P+_Amp_V5', 'P+_Amp_V6', 'P-_Amp_I', 'P-_Amp_II', 'P-_Amp_III', 'P-_Amp_aVR', 'P-_Amp_aVL', 'P-_Amp_aVF', 'P-_Amp_V1', 'P-_Amp_V2', 'P-_Amp_V3', 'P-_Amp_V4', 'P-_Amp_V5', 'P-_Amp_V6', 'P2P_Amp_I', 'P2P_Amp_II', 'P2P_Amp_III', 'P2P_Amp_aVR', 'P2P_Amp_aVL', 'P2P_Amp_aVF', 'P2P_Amp_V1', 'P2P_Amp_V2', 'P2P_Amp_V3', 'P2P_Amp_V4', 'P2P_Amp_V5', 'P2P_Amp_V6', 'Q_Amp_I', 'Q_Amp_II', 'Q_Amp_III', 'Q_Amp_aVR', 'Q_Amp_aVL', 'Q_Amp_aVF', 'Q_Amp_V1', 'Q_Amp_V2', 'Q_Amp_V3', 'Q_Amp_V4', 'Q_Amp_V5', 'Q_Amp_V6', 'R_Amp_I', 'R_Amp_II', 'R_Amp_III', 'R_Amp_aVR', 'R_Amp_aVL', 'R_Amp_aVF', 'R_Amp_V1', 'R_Amp_V2', 'R_Amp_V3', 'R_Amp_V4', 'R_Amp_V5', 'R_Amp_V6', 'S_Amp_I', 'S_Amp_II', 'S_Amp_III', 'S_Amp_aVR', 'S_Amp_aVL', 'S_Amp_aVF', 'S_Amp_V1', 'S_Amp_V2', 'S_Amp_V3', 'S_Amp_V4', 'S_Amp_V5', 'S_Amp_V6', \"R'_Amp_I\", \"R'_Amp_II\", \"R'_Amp_III\", \"R'_Amp_aVR\", \"R'_Amp_aVL\", \"R'_Amp_aVF\", \"R'_Amp_V1\", \"R'_Amp_V2\", \"R'_Amp_V3\", \"R'_Amp_V4\", \"R'_Amp_V5\", \"R'_Amp_V6\", \"S'_Amp_I\", \"S'_Amp_II\", \"S'_Amp_III\", \"S'_Amp_aVR\", \"S'_Amp_aVL\", \"S'_Amp_aVF\", \"S'_Amp_V1\", \"S'_Amp_V2\", \"S'_Amp_V3\", \"S'_Amp_V4\", \"S'_Amp_V5\", \"S'_Amp_V6\", \"R''_Amp_I\", \"R''_Amp_II\", \"R''_Amp_III\", \"R''_Amp_aVR\", \"R''_Amp_aVL\", \"R''_Amp_aVF\", \"R''_Amp_V1\", \"R''_Amp_V2\", \"R''_Amp_V3\", \"R''_Amp_V4\", \"R''_Amp_V5\", \"R''_Amp_V6\", \"S''_Amp_I\", \"S''_Amp_II\", \"S''_Amp_III\", \"S''_Amp_aVR\", \"S''_Amp_aVL\", \"S''_Amp_aVF\", \"S''_Amp_V1\", \"S''_Amp_V2\", \"S''_Amp_V3\", \"S''_Amp_V4\", \"S''_Amp_V5\", \"S''_Amp_V6\", 'ST_Amp_I', 'ST_Amp_II', 'ST_Amp_III', 'ST_Amp_aVR', 'ST_Amp_aVL', 'ST_Amp_aVF', 'ST_Amp_V1', 'ST_Amp_V2', 'ST_Amp_V3', 'ST_Amp_V4', 'ST_Amp_V5', 'ST_Amp_V6', 'STT28_Amp_I', 'STT28_Amp_II', 'STT28_Amp_III', 'STT28_Amp_aVR', 'STT28_Amp_aVL', 'STT28_Amp_aVF', 'STT28_Amp_V1', 'STT28_Amp_V2', 'STT28_Amp_V3', 'STT28_Amp_V4', 'STT28_Amp_V5', 'STT28_Amp_V6', 'STT38_Amp_I', 'STT38_Amp_II', 'STT38_Amp_III', 'STT38_Amp_aVR', 'STT38_Amp_aVL', 'STT38_Amp_aVF', 'STT38_Amp_V1', 'STT38_Amp_V2', 'STT38_Amp_V3', 'STT38_Amp_V4', 'STT38_Amp_V5', 'STT38_Amp_V6', 'T+_Amp_I', 'T+_Amp_II', 'T+_Amp_III', 'T+_Amp_aVR', 'T+_Amp_aVL', 'T+_Amp_aVF', 'T+_Amp_V1', 'T+_Amp_V2', 'T+_Amp_V3', 'T+_Amp_V4', 'T+_Amp_V5', 'T+_Amp_V6', 'T-_Amp_I', 'T-_Amp_II', 'T-_Amp_III', 'T-_Amp_aVR', 'T-_Amp_aVL', 'T-_Amp_aVF', 'T-_Amp_V1', 'T-_Amp_V2', 'T-_Amp_V3', 'T-_Amp_V4', 'T-_Amp_V5', 'T-_Amp_V6', 'QRS_Area_I', 'QRS_Area_II', 'QRS_Area_III', 'QRS_Area_aVR', 'QRS_Area_aVL', 'QRS_Area_aVF', 'QRS_Area_V1', 'QRS_Area_V2', 'QRS_Area_V3', 'QRS_Area_V4', 'QRS_Area_V5', 'QRS_Area_V6', 'P_Area_I', 'P_Area_II', 'P_Area_III', 'P_Area_aVR', 'P_Area_aVL', 'P_Area_aVF', 'P_Area_V1', 'P_Area_V2', 'P_Area_V3', 'P_Area_V4', 'P_Area_V5', 'P_Area_V6', 'T_Area_I', 'T_Area_II', 'T_Area_III', 'T_Area_aVR', 'T_Area_aVL', 'T_Area_aVF', 'T_Area_V1', 'T_Area_V2', 'T_Area_V3', 'T_Area_V4', 'T_Area_V5', 'T_Area_V6', 'P_Morph_I', 'P_Morph_II', 'P_Morph_III', 'P_Morph_aVR', 'P_Morph_aVL', 'P_Morph_aVF', 'P_Morph_V1', 'P_Morph_V2', 'P_Morph_V3', 'P_Morph_V4', 'P_Morph_V5', 'P_Morph_V6', 'T_Morph_I', 'T_Morph_II', 'T_Morph_III', 'T_Morph_aVR', 'T_Morph_aVL', 'T_Morph_aVF', 'T_Morph_V1', 'T_Morph_V2', 'T_Morph_V3', 'T_Morph_V4', 'T_Morph_V5', 'T_Morph_V6', 'R_Notch_I', 'R_Notch_II', 'R_Notch_III', 'R_Notch_aVR', 'R_Notch_aVL', 'R_Notch_aVF', 'R_Notch_V1', 'R_Notch_V2', 'R_Notch_V3', 'R_Notch_V4', 'R_Notch_V5', 'R_Notch_V6', 'DeltaConf_I', 'DeltaConf_II', 'DeltaConf_III', 'DeltaConf_aVR', 'DeltaConf_aVL', 'DeltaConf_aVF', 'DeltaConf_V1', 'DeltaConf_V2', 'DeltaConf_V3', 'DeltaConf_V4', 'DeltaConf_V5', 'DeltaConf_V6', 'ST_Slope_I', 'ST_Slope_II', 'ST_Slope_III', 'ST_Slope_aVR', 'ST_Slope_aVL', 'ST_Slope_aVF', 'ST_Slope_V1', 'ST_Slope_V2', 'ST_Slope_V3', 'ST_Slope_V4', 'ST_Slope_V5', 'ST_Slope_V6', 'QT_Int_I', 'QT_Int_II', 'QT_Int_III', 'QT_Int_aVR', 'QT_Int_aVL', 'QT_Int_aVF', 'QT_Int_V1', 'QT_Int_V2', 'QT_Int_V3', 'QT_Int_V4', 'QT_Int_V5', 'QT_Int_V6', 'PR_AMP_I', 'PR_AMP_II', 'PR_AMP_III', 'PR_AMP_aVR', 'PR_AMP_aVL', 'PR_AMP_aVF', 'PR_AMP_V1', 'PR_AMP_V2', 'PR_AMP_V3', 'PR_AMP_V4', 'PR_AMP_V5', 'PR_AMP_V6', 'ST_AMPAdj_I', 'ST_AMPAdj_II', 'ST_AMPAdj_III', 'ST_AMPAdj_aVR', 'ST_AMPAdj_aVL', 'ST_AMPAdj_aVF', 'ST_AMPAdj_V1', 'ST_AMPAdj_V2', 'ST_AMPAdj_V3', 'ST_AMPAdj_V4', 'ST_AMPAdj_V5', 'ST_AMPAdj_V6', 'age', 'sex']",
     "output_type": "error",
     "traceback": [
      "\u001b[0;31m---------------------------------------------------------------------------\u001b[0m",
      "\u001b[0;31mValueError\u001b[0m                                Traceback (most recent call last)",
      "\u001b[0;32m<ipython-input-37-5f08e5bc1c55>\u001b[0m in \u001b[0;36m<module>\u001b[0;34m\u001b[0m\n\u001b[0;32m----> 1\u001b[0;31m \u001b[0mtrxfutils\u001b[0m\u001b[0;34m.\u001b[0m\u001b[0mbatch_evaluate\u001b[0m\u001b[0;34m(\u001b[0m\u001b[0mR2run\u001b[0m\u001b[0;34m.\u001b[0m\u001b[0mexport_rules_to_trxf_dnf_ruleset\u001b[0m\u001b[0;34m(\u001b[0m\u001b[0mthr\u001b[0m\u001b[0;34m=\u001b[0m\u001b[0;36m0.1\u001b[0m\u001b[0;34m)\u001b[0m\u001b[0;34m,\u001b[0m \u001b[0mtest_x\u001b[0m\u001b[0;34m)\u001b[0m\u001b[0;34m\u001b[0m\u001b[0;34m\u001b[0m\u001b[0m\n\u001b[0m",
      "\u001b[0;32m~/Documents/Github/Geneva_data/aix360i/aix360i/algorithms/rule_induction/trxf/core/utils.py\u001b[0m in \u001b[0;36mbatch_evaluate\u001b[0;34m(evaluator, X)\u001b[0m\n\u001b[1;32m     38\u001b[0m     \"\"\"\n\u001b[1;32m     39\u001b[0m     \u001b[0massignments\u001b[0m \u001b[0;34m=\u001b[0m \u001b[0mX\u001b[0m\u001b[0;34m.\u001b[0m\u001b[0mto_dict\u001b[0m\u001b[0;34m(\u001b[0m\u001b[0;34m'records'\u001b[0m\u001b[0;34m)\u001b[0m\u001b[0;34m\u001b[0m\u001b[0;34m\u001b[0m\u001b[0m\n\u001b[0;32m---> 40\u001b[0;31m     \u001b[0;32mreturn\u001b[0m \u001b[0mpd\u001b[0m\u001b[0;34m.\u001b[0m\u001b[0mSeries\u001b[0m\u001b[0;34m(\u001b[0m\u001b[0mlist\u001b[0m\u001b[0;34m(\u001b[0m\u001b[0mmap\u001b[0m\u001b[0;34m(\u001b[0m\u001b[0;32mlambda\u001b[0m \u001b[0massignment\u001b[0m\u001b[0;34m:\u001b[0m \u001b[0mevaluator\u001b[0m\u001b[0;34m.\u001b[0m\u001b[0mevaluate\u001b[0m\u001b[0;34m(\u001b[0m\u001b[0massignment\u001b[0m\u001b[0;34m)\u001b[0m\u001b[0;34m,\u001b[0m \u001b[0massignments\u001b[0m\u001b[0;34m)\u001b[0m\u001b[0;34m)\u001b[0m\u001b[0;34m)\u001b[0m\u001b[0;34m\u001b[0m\u001b[0;34m\u001b[0m\u001b[0m\n\u001b[0m",
      "\u001b[0;32m~/Documents/Github/Geneva_data/aix360i/aix360i/algorithms/rule_induction/trxf/core/utils.py\u001b[0m in \u001b[0;36m<lambda>\u001b[0;34m(assignment)\u001b[0m\n\u001b[1;32m     38\u001b[0m     \"\"\"\n\u001b[1;32m     39\u001b[0m     \u001b[0massignments\u001b[0m \u001b[0;34m=\u001b[0m \u001b[0mX\u001b[0m\u001b[0;34m.\u001b[0m\u001b[0mto_dict\u001b[0m\u001b[0;34m(\u001b[0m\u001b[0;34m'records'\u001b[0m\u001b[0;34m)\u001b[0m\u001b[0;34m\u001b[0m\u001b[0;34m\u001b[0m\u001b[0m\n\u001b[0;32m---> 40\u001b[0;31m     \u001b[0;32mreturn\u001b[0m \u001b[0mpd\u001b[0m\u001b[0;34m.\u001b[0m\u001b[0mSeries\u001b[0m\u001b[0;34m(\u001b[0m\u001b[0mlist\u001b[0m\u001b[0;34m(\u001b[0m\u001b[0mmap\u001b[0m\u001b[0;34m(\u001b[0m\u001b[0;32mlambda\u001b[0m \u001b[0massignment\u001b[0m\u001b[0;34m:\u001b[0m \u001b[0mevaluator\u001b[0m\u001b[0;34m.\u001b[0m\u001b[0mevaluate\u001b[0m\u001b[0;34m(\u001b[0m\u001b[0massignment\u001b[0m\u001b[0;34m)\u001b[0m\u001b[0;34m,\u001b[0m \u001b[0massignments\u001b[0m\u001b[0;34m)\u001b[0m\u001b[0;34m)\u001b[0m\u001b[0;34m)\u001b[0m\u001b[0;34m\u001b[0m\u001b[0;34m\u001b[0m\u001b[0m\n\u001b[0m",
      "\u001b[0;32m~/Documents/Github/Geneva_data/aix360i/aix360i/algorithms/rule_induction/trxf/core/dnf_ruleset.py\u001b[0m in \u001b[0;36mevaluate\u001b[0;34m(self, assignment)\u001b[0m\n\u001b[1;32m     44\u001b[0m     \u001b[0;32mdef\u001b[0m \u001b[0mevaluate\u001b[0m\u001b[0;34m(\u001b[0m\u001b[0mself\u001b[0m\u001b[0;34m,\u001b[0m \u001b[0massignment\u001b[0m\u001b[0;34m:\u001b[0m \u001b[0mDict\u001b[0m\u001b[0;34m[\u001b[0m\u001b[0mstr\u001b[0m\u001b[0;34m,\u001b[0m \u001b[0mAny\u001b[0m\u001b[0;34m]\u001b[0m\u001b[0;34m)\u001b[0m \u001b[0;34m->\u001b[0m \u001b[0mbool\u001b[0m\u001b[0;34m:\u001b[0m\u001b[0;34m\u001b[0m\u001b[0;34m\u001b[0m\u001b[0m\n\u001b[1;32m     45\u001b[0m         \u001b[0;32mfor\u001b[0m \u001b[0mconjunction\u001b[0m \u001b[0;32min\u001b[0m \u001b[0mself\u001b[0m\u001b[0;34m.\u001b[0m\u001b[0mconjunctions\u001b[0m\u001b[0;34m:\u001b[0m\u001b[0;34m\u001b[0m\u001b[0;34m\u001b[0m\u001b[0m\n\u001b[0;32m---> 46\u001b[0;31m             \u001b[0;32mif\u001b[0m \u001b[0mconjunction\u001b[0m\u001b[0;34m.\u001b[0m\u001b[0mevaluate\u001b[0m\u001b[0;34m(\u001b[0m\u001b[0massignment\u001b[0m\u001b[0;34m)\u001b[0m\u001b[0;34m:\u001b[0m\u001b[0;34m\u001b[0m\u001b[0;34m\u001b[0m\u001b[0m\n\u001b[0m\u001b[1;32m     47\u001b[0m                 \u001b[0;32mreturn\u001b[0m \u001b[0;32mTrue\u001b[0m\u001b[0;34m\u001b[0m\u001b[0;34m\u001b[0m\u001b[0m\n\u001b[1;32m     48\u001b[0m         \u001b[0;32mreturn\u001b[0m \u001b[0;32mFalse\u001b[0m\u001b[0;34m\u001b[0m\u001b[0;34m\u001b[0m\u001b[0m\n",
      "\u001b[0;32m~/Documents/Github/Geneva_data/aix360i/aix360i/algorithms/rule_induction/trxf/core/conjunction.py\u001b[0m in \u001b[0;36mevaluate\u001b[0;34m(self, assignment)\u001b[0m\n\u001b[1;32m     31\u001b[0m         \"\"\"       \n\u001b[1;32m     32\u001b[0m         \u001b[0;32mfor\u001b[0m \u001b[0mpred\u001b[0m \u001b[0;32min\u001b[0m \u001b[0mself\u001b[0m\u001b[0;34m.\u001b[0m\u001b[0mpredicates\u001b[0m\u001b[0;34m:\u001b[0m\u001b[0;34m\u001b[0m\u001b[0;34m\u001b[0m\u001b[0m\n\u001b[0;32m---> 33\u001b[0;31m             \u001b[0;32mif\u001b[0m \u001b[0;32mnot\u001b[0m \u001b[0mpred\u001b[0m\u001b[0;34m.\u001b[0m\u001b[0mevaluate\u001b[0m\u001b[0;34m(\u001b[0m\u001b[0massignment\u001b[0m\u001b[0;34m)\u001b[0m\u001b[0;34m:\u001b[0m\u001b[0;34m\u001b[0m\u001b[0;34m\u001b[0m\u001b[0m\n\u001b[0m\u001b[1;32m     34\u001b[0m                 \u001b[0;32mreturn\u001b[0m \u001b[0;32mFalse\u001b[0m\u001b[0;34m\u001b[0m\u001b[0;34m\u001b[0m\u001b[0m\n\u001b[1;32m     35\u001b[0m         \u001b[0;32mreturn\u001b[0m \u001b[0;32mTrue\u001b[0m\u001b[0;34m\u001b[0m\u001b[0;34m\u001b[0m\u001b[0m\n",
      "\u001b[0;32m~/Documents/Github/Geneva_data/aix360i/aix360i/algorithms/rule_induction/trxf/core/predicate.py\u001b[0m in \u001b[0;36mevaluate\u001b[0;34m(self, assignment)\u001b[0m\n\u001b[1;32m     61\u001b[0m         \u001b[0;32mif\u001b[0m \u001b[0;32mnot\u001b[0m \u001b[0mset\u001b[0m\u001b[0;34m(\u001b[0m\u001b[0mself\u001b[0m\u001b[0;34m.\u001b[0m\u001b[0mfeature\u001b[0m\u001b[0;34m.\u001b[0m\u001b[0mvariable_names\u001b[0m\u001b[0;34m)\u001b[0m\u001b[0;34m.\u001b[0m\u001b[0missubset\u001b[0m\u001b[0;34m(\u001b[0m\u001b[0mset\u001b[0m\u001b[0;34m(\u001b[0m\u001b[0massignment\u001b[0m\u001b[0;34m.\u001b[0m\u001b[0mkeys\u001b[0m\u001b[0;34m(\u001b[0m\u001b[0;34m)\u001b[0m\u001b[0;34m)\u001b[0m\u001b[0;34m)\u001b[0m\u001b[0;34m:\u001b[0m\u001b[0;34m\u001b[0m\u001b[0;34m\u001b[0m\u001b[0m\n\u001b[1;32m     62\u001b[0m             raise ValueError('feature names {} must be a subset of the column names {}'\n\u001b[0;32m---> 63\u001b[0;31m                              .format(self.feature.variable_names, list(assignment.keys())))\n\u001b[0m\u001b[1;32m     64\u001b[0m         \u001b[0mfeature_val\u001b[0m \u001b[0;34m=\u001b[0m \u001b[0mself\u001b[0m\u001b[0;34m.\u001b[0m\u001b[0mfeature\u001b[0m\u001b[0;34m.\u001b[0m\u001b[0mevaluate\u001b[0m\u001b[0;34m(\u001b[0m\u001b[0massignment\u001b[0m\u001b[0;34m)\u001b[0m\u001b[0;34m\u001b[0m\u001b[0;34m\u001b[0m\u001b[0m\n\u001b[1;32m     65\u001b[0m         \u001b[0;32mif\u001b[0m \u001b[0mself\u001b[0m\u001b[0;34m.\u001b[0m\u001b[0mrelation\u001b[0m \u001b[0;34m==\u001b[0m \u001b[0mRelation\u001b[0m\u001b[0;34m.\u001b[0m\u001b[0mEQ\u001b[0m\u001b[0;34m:\u001b[0m\u001b[0;34m\u001b[0m\u001b[0;34m\u001b[0m\u001b[0m\n",
      "\u001b[0;31mValueError\u001b[0m: feature names ['ST80_Amp_I', 'R_Dur_I', 'QRS_IntD_I', 'P2P_Amp_III', 'P2P_Amp_V6', 'R_Amp_I', 'R_Amp_aVL', 'R_Amp_V4', 'R_Amp_V5', 'S_Amp_III', 'ST_Amp_V1', 'ST_Amp_V6', 'STT28_Amp_I', 'STT38_Amp_V5', 'T', '_Amp_V6', 'QRS_Area_III', 'QRS_Area_aVR'] must be a subset of the column names ['P_Ons_I', 'P_Ons_II', 'P_Ons_III', 'P_Ons_aVR', 'P_Ons_aVL', 'P_Ons_aVF', 'P_Ons_V1', 'P_Ons_V2', 'P_Ons_V3', 'P_Ons_V4', 'P_Ons_V5', 'P_Ons_V6', 'P_Dur_I', 'P_Dur_II', 'P_Dur_III', 'P_Dur_aVR', 'P_Dur_aVL', 'P_Dur_aVF', 'P_Dur_V1', 'P_Dur_V2', 'P_Dur_V3', 'P_Dur_V4', 'P_Dur_V5', 'P_Dur_V6', 'QRS_Ons_I', 'QRS_Ons_II', 'QRS_Ons_III', 'QRS_Ons_aVR', 'QRS_Ons_aVL', 'QRS_Ons_aVF', 'QRS_Ons_V1', 'QRS_Ons_V2', 'QRS_Ons_V3', 'QRS_Ons_V4', 'QRS_Ons_V5', 'QRS_Ons_V6', 'QRS_Dur_I', 'QRS_Dur_II', 'QRS_Dur_III', 'QRS_Dur_aVR', 'QRS_Dur_aVL', 'QRS_Dur_aVF', 'QRS_Dur_V1', 'QRS_Dur_V2', 'QRS_Dur_V3', 'QRS_Dur_V4', 'QRS_Dur_V5', 'QRS_Dur_V6', 'ST80_Amp_I', 'ST80_Amp_II', 'ST80_Amp_III', 'ST80_Amp_aVR', 'ST80_Amp_aVL', 'ST80_Amp_aVF', 'ST80_Amp_V1', 'ST80_Amp_V2', 'ST80_Amp_V3', 'ST80_Amp_V4', 'ST80_Amp_V5', 'ST80_Amp_V6', 'Q_Dur_I', 'Q_Dur_II', 'Q_Dur_III', 'Q_Dur_aVR', 'Q_Dur_aVL', 'Q_Dur_aVF', 'Q_Dur_V1', 'Q_Dur_V2', 'Q_Dur_V3', 'Q_Dur_V4', 'Q_Dur_V5', 'Q_Dur_V6', 'R_Dur_I', 'R_Dur_II', 'R_Dur_III', 'R_Dur_aVR', 'R_Dur_aVL', 'R_Dur_aVF', 'R_Dur_V1', 'R_Dur_V2', 'R_Dur_V3', 'R_Dur_V4', 'R_Dur_V5', 'R_Dur_V6', 'S_Dur_I', 'S_Dur_II', 'S_Dur_III', 'S_Dur_aVR', 'S_Dur_aVL', 'S_Dur_aVF', 'S_Dur_V1', 'S_Dur_V2', 'S_Dur_V3', 'S_Dur_V4', 'S_Dur_V5', 'S_Dur_V6', \"R'_Dur_I\", \"R'_Dur_II\", \"R'_Dur_III\", \"R'_Dur_aVR\", \"R'_Dur_aVL\", \"R'_Dur_aVF\", \"R'_Dur_V1\", \"R'_Dur_V2\", \"R'_Dur_V3\", \"R'_Dur_V4\", \"R'_Dur_V5\", \"R'_Dur_V6\", \"S'_Dur_I\", \"S'_Dur_II\", \"S'_Dur_III\", \"S'_Dur_aVR\", \"S'_Dur_aVL\", \"S'_Dur_aVF\", \"S'_Dur_V1\", \"S'_Dur_V2\", \"S'_Dur_V3\", \"S'_Dur_V4\", \"S'_Dur_V5\", \"S'_Dur_V6\", \"R''_Dur_I\", \"R''_Dur_II\", \"R''_Dur_III\", \"R''_Dur_aVR\", \"R''_Dur_aVL\", \"R''_Dur_aVF\", \"R''_Dur_V1\", \"R''_Dur_V2\", \"R''_Dur_V3\", \"R''_Dur_V4\", \"R''_Dur_V5\", \"R''_Dur_V6\", \"S''_Dur_I\", \"S''_Dur_II\", \"S''_Dur_III\", \"S''_Dur_aVR\", \"S''_Dur_aVL\", \"S''_Dur_aVF\", \"S''_Dur_V1\", \"S''_Dur_V2\", \"S''_Dur_V3\", \"S''_Dur_V4\", \"S''_Dur_V5\", \"S''_Dur_V6\", 'ST_Dur_I', 'ST_Dur_II', 'ST_Dur_III', 'ST_Dur_aVR', 'ST_Dur_aVL', 'ST_Dur_aVF', 'ST_Dur_V1', 'ST_Dur_V2', 'ST_Dur_V3', 'ST_Dur_V4', 'ST_Dur_V5', 'ST_Dur_V6', 'T_Ons_I', 'T_Ons_II', 'T_Ons_III', 'T_Ons_aVR', 'T_Ons_aVL', 'T_Ons_aVF', 'T_Ons_V1', 'T_Ons_V2', 'T_Ons_V3', 'T_Ons_V4', 'T_Ons_V5', 'T_Ons_V6', 'T_Dur_I', 'T_Dur_II', 'T_Dur_III', 'T_Dur_aVR', 'T_Dur_aVL', 'T_Dur_aVF', 'T_Dur_V1', 'T_Dur_V2', 'T_Dur_V3', 'T_Dur_V4', 'T_Dur_V5', 'T_Dur_V6', 'P+_Dur_I', 'P+_Dur_II', 'P+_Dur_III', 'P+_Dur_aVR', 'P+_Dur_aVL', 'P+_Dur_aVF', 'P+_Dur_V1', 'P+_Dur_V2', 'P+_Dur_V3', 'P+_Dur_V4', 'P+_Dur_V5', 'P+_Dur_V6', 'T+_Dur_I', 'T+_Dur_II', 'T+_Dur_III', 'T+_Dur_aVR', 'T+_Dur_aVL', 'T+_Dur_aVF', 'T+_Dur_V1', 'T+_Dur_V2', 'T+_Dur_V3', 'T+_Dur_V4', 'T+_Dur_V5', 'T+_Dur_V6', 'QRS_IntD_I', 'QRS_IntD_II', 'QRS_IntD_III', 'QRS_IntD_aVR', 'QRS_IntD_aVL', 'QRS_IntD_aVF', 'QRS_IntD_V1', 'QRS_IntD_V2', 'QRS_IntD_V3', 'QRS_IntD_V4', 'QRS_IntD_V5', 'QRS_IntD_V6', 'P+_Amp_I', 'P+_Amp_II', 'P+_Amp_III', 'P+_Amp_aVR', 'P+_Amp_aVL', 'P+_Amp_aVF', 'P+_Amp_V1', 'P+_Amp_V2', 'P+_Amp_V3', 'P+_Amp_V4', 'P+_Amp_V5', 'P+_Amp_V6', 'P-_Amp_I', 'P-_Amp_II', 'P-_Amp_III', 'P-_Amp_aVR', 'P-_Amp_aVL', 'P-_Amp_aVF', 'P-_Amp_V1', 'P-_Amp_V2', 'P-_Amp_V3', 'P-_Amp_V4', 'P-_Amp_V5', 'P-_Amp_V6', 'P2P_Amp_I', 'P2P_Amp_II', 'P2P_Amp_III', 'P2P_Amp_aVR', 'P2P_Amp_aVL', 'P2P_Amp_aVF', 'P2P_Amp_V1', 'P2P_Amp_V2', 'P2P_Amp_V3', 'P2P_Amp_V4', 'P2P_Amp_V5', 'P2P_Amp_V6', 'Q_Amp_I', 'Q_Amp_II', 'Q_Amp_III', 'Q_Amp_aVR', 'Q_Amp_aVL', 'Q_Amp_aVF', 'Q_Amp_V1', 'Q_Amp_V2', 'Q_Amp_V3', 'Q_Amp_V4', 'Q_Amp_V5', 'Q_Amp_V6', 'R_Amp_I', 'R_Amp_II', 'R_Amp_III', 'R_Amp_aVR', 'R_Amp_aVL', 'R_Amp_aVF', 'R_Amp_V1', 'R_Amp_V2', 'R_Amp_V3', 'R_Amp_V4', 'R_Amp_V5', 'R_Amp_V6', 'S_Amp_I', 'S_Amp_II', 'S_Amp_III', 'S_Amp_aVR', 'S_Amp_aVL', 'S_Amp_aVF', 'S_Amp_V1', 'S_Amp_V2', 'S_Amp_V3', 'S_Amp_V4', 'S_Amp_V5', 'S_Amp_V6', \"R'_Amp_I\", \"R'_Amp_II\", \"R'_Amp_III\", \"R'_Amp_aVR\", \"R'_Amp_aVL\", \"R'_Amp_aVF\", \"R'_Amp_V1\", \"R'_Amp_V2\", \"R'_Amp_V3\", \"R'_Amp_V4\", \"R'_Amp_V5\", \"R'_Amp_V6\", \"S'_Amp_I\", \"S'_Amp_II\", \"S'_Amp_III\", \"S'_Amp_aVR\", \"S'_Amp_aVL\", \"S'_Amp_aVF\", \"S'_Amp_V1\", \"S'_Amp_V2\", \"S'_Amp_V3\", \"S'_Amp_V4\", \"S'_Amp_V5\", \"S'_Amp_V6\", \"R''_Amp_I\", \"R''_Amp_II\", \"R''_Amp_III\", \"R''_Amp_aVR\", \"R''_Amp_aVL\", \"R''_Amp_aVF\", \"R''_Amp_V1\", \"R''_Amp_V2\", \"R''_Amp_V3\", \"R''_Amp_V4\", \"R''_Amp_V5\", \"R''_Amp_V6\", \"S''_Amp_I\", \"S''_Amp_II\", \"S''_Amp_III\", \"S''_Amp_aVR\", \"S''_Amp_aVL\", \"S''_Amp_aVF\", \"S''_Amp_V1\", \"S''_Amp_V2\", \"S''_Amp_V3\", \"S''_Amp_V4\", \"S''_Amp_V5\", \"S''_Amp_V6\", 'ST_Amp_I', 'ST_Amp_II', 'ST_Amp_III', 'ST_Amp_aVR', 'ST_Amp_aVL', 'ST_Amp_aVF', 'ST_Amp_V1', 'ST_Amp_V2', 'ST_Amp_V3', 'ST_Amp_V4', 'ST_Amp_V5', 'ST_Amp_V6', 'STT28_Amp_I', 'STT28_Amp_II', 'STT28_Amp_III', 'STT28_Amp_aVR', 'STT28_Amp_aVL', 'STT28_Amp_aVF', 'STT28_Amp_V1', 'STT28_Amp_V2', 'STT28_Amp_V3', 'STT28_Amp_V4', 'STT28_Amp_V5', 'STT28_Amp_V6', 'STT38_Amp_I', 'STT38_Amp_II', 'STT38_Amp_III', 'STT38_Amp_aVR', 'STT38_Amp_aVL', 'STT38_Amp_aVF', 'STT38_Amp_V1', 'STT38_Amp_V2', 'STT38_Amp_V3', 'STT38_Amp_V4', 'STT38_Amp_V5', 'STT38_Amp_V6', 'T+_Amp_I', 'T+_Amp_II', 'T+_Amp_III', 'T+_Amp_aVR', 'T+_Amp_aVL', 'T+_Amp_aVF', 'T+_Amp_V1', 'T+_Amp_V2', 'T+_Amp_V3', 'T+_Amp_V4', 'T+_Amp_V5', 'T+_Amp_V6', 'T-_Amp_I', 'T-_Amp_II', 'T-_Amp_III', 'T-_Amp_aVR', 'T-_Amp_aVL', 'T-_Amp_aVF', 'T-_Amp_V1', 'T-_Amp_V2', 'T-_Amp_V3', 'T-_Amp_V4', 'T-_Amp_V5', 'T-_Amp_V6', 'QRS_Area_I', 'QRS_Area_II', 'QRS_Area_III', 'QRS_Area_aVR', 'QRS_Area_aVL', 'QRS_Area_aVF', 'QRS_Area_V1', 'QRS_Area_V2', 'QRS_Area_V3', 'QRS_Area_V4', 'QRS_Area_V5', 'QRS_Area_V6', 'P_Area_I', 'P_Area_II', 'P_Area_III', 'P_Area_aVR', 'P_Area_aVL', 'P_Area_aVF', 'P_Area_V1', 'P_Area_V2', 'P_Area_V3', 'P_Area_V4', 'P_Area_V5', 'P_Area_V6', 'T_Area_I', 'T_Area_II', 'T_Area_III', 'T_Area_aVR', 'T_Area_aVL', 'T_Area_aVF', 'T_Area_V1', 'T_Area_V2', 'T_Area_V3', 'T_Area_V4', 'T_Area_V5', 'T_Area_V6', 'P_Morph_I', 'P_Morph_II', 'P_Morph_III', 'P_Morph_aVR', 'P_Morph_aVL', 'P_Morph_aVF', 'P_Morph_V1', 'P_Morph_V2', 'P_Morph_V3', 'P_Morph_V4', 'P_Morph_V5', 'P_Morph_V6', 'T_Morph_I', 'T_Morph_II', 'T_Morph_III', 'T_Morph_aVR', 'T_Morph_aVL', 'T_Morph_aVF', 'T_Morph_V1', 'T_Morph_V2', 'T_Morph_V3', 'T_Morph_V4', 'T_Morph_V5', 'T_Morph_V6', 'R_Notch_I', 'R_Notch_II', 'R_Notch_III', 'R_Notch_aVR', 'R_Notch_aVL', 'R_Notch_aVF', 'R_Notch_V1', 'R_Notch_V2', 'R_Notch_V3', 'R_Notch_V4', 'R_Notch_V5', 'R_Notch_V6', 'DeltaConf_I', 'DeltaConf_II', 'DeltaConf_III', 'DeltaConf_aVR', 'DeltaConf_aVL', 'DeltaConf_aVF', 'DeltaConf_V1', 'DeltaConf_V2', 'DeltaConf_V3', 'DeltaConf_V4', 'DeltaConf_V5', 'DeltaConf_V6', 'ST_Slope_I', 'ST_Slope_II', 'ST_Slope_III', 'ST_Slope_aVR', 'ST_Slope_aVL', 'ST_Slope_aVF', 'ST_Slope_V1', 'ST_Slope_V2', 'ST_Slope_V3', 'ST_Slope_V4', 'ST_Slope_V5', 'ST_Slope_V6', 'QT_Int_I', 'QT_Int_II', 'QT_Int_III', 'QT_Int_aVR', 'QT_Int_aVL', 'QT_Int_aVF', 'QT_Int_V1', 'QT_Int_V2', 'QT_Int_V3', 'QT_Int_V4', 'QT_Int_V5', 'QT_Int_V6', 'PR_AMP_I', 'PR_AMP_II', 'PR_AMP_III', 'PR_AMP_aVR', 'PR_AMP_aVL', 'PR_AMP_aVF', 'PR_AMP_V1', 'PR_AMP_V2', 'PR_AMP_V3', 'PR_AMP_V4', 'PR_AMP_V5', 'PR_AMP_V6', 'ST_AMPAdj_I', 'ST_AMPAdj_II', 'ST_AMPAdj_III', 'ST_AMPAdj_aVR', 'ST_AMPAdj_aVL', 'ST_AMPAdj_aVF', 'ST_AMPAdj_V1', 'ST_AMPAdj_V2', 'ST_AMPAdj_V3', 'ST_AMPAdj_V4', 'ST_AMPAdj_V5', 'ST_AMPAdj_V6', 'age', 'sex']"
     ]
    }
   ],
   "source": [
    "trxfutils.batch_evaluate(R2run.export_rules_to_trxf_dnf_ruleset(thr=0.1), test_x)"
   ]
  },
  {
   "cell_type": "code",
   "execution_count": 21,
   "metadata": {},
   "outputs": [
    {
     "data": {
      "text/html": [
       "<div>\n",
       "<style scoped>\n",
       "    .dataframe tbody tr th:only-of-type {\n",
       "        vertical-align: middle;\n",
       "    }\n",
       "\n",
       "    .dataframe tbody tr th {\n",
       "        vertical-align: top;\n",
       "    }\n",
       "\n",
       "    .dataframe thead th {\n",
       "        text-align: right;\n",
       "    }\n",
       "</style>\n",
       "<table border=\"1\" class=\"dataframe\">\n",
       "  <thead>\n",
       "    <tr style=\"text-align: right;\">\n",
       "      <th></th>\n",
       "      <th>X_0</th>\n",
       "      <th>X_1</th>\n",
       "      <th>X_2</th>\n",
       "      <th>X_3</th>\n",
       "      <th>X_4</th>\n",
       "      <th>Z_0</th>\n",
       "      <th>Z_1</th>\n",
       "    </tr>\n",
       "  </thead>\n",
       "  <tbody>\n",
       "    <tr>\n",
       "      <th>0</th>\n",
       "      <td>0.967030</td>\n",
       "      <td>0.547232</td>\n",
       "      <td>0.972684</td>\n",
       "      <td>0.714816</td>\n",
       "      <td>0.697729</td>\n",
       "      <td>No</td>\n",
       "      <td>No</td>\n",
       "    </tr>\n",
       "    <tr>\n",
       "      <th>1</th>\n",
       "      <td>0.216089</td>\n",
       "      <td>0.976274</td>\n",
       "      <td>0.006230</td>\n",
       "      <td>0.252982</td>\n",
       "      <td>0.434792</td>\n",
       "      <td>Yes</td>\n",
       "      <td>No</td>\n",
       "    </tr>\n",
       "    <tr>\n",
       "      <th>2</th>\n",
       "      <td>0.779383</td>\n",
       "      <td>0.197685</td>\n",
       "      <td>0.862993</td>\n",
       "      <td>0.983401</td>\n",
       "      <td>0.163842</td>\n",
       "      <td>No</td>\n",
       "      <td>No</td>\n",
       "    </tr>\n",
       "    <tr>\n",
       "      <th>3</th>\n",
       "      <td>0.597334</td>\n",
       "      <td>0.008986</td>\n",
       "      <td>0.386571</td>\n",
       "      <td>0.044160</td>\n",
       "      <td>0.956653</td>\n",
       "      <td>No</td>\n",
       "      <td>Yes</td>\n",
       "    </tr>\n",
       "    <tr>\n",
       "      <th>4</th>\n",
       "      <td>0.436147</td>\n",
       "      <td>0.948977</td>\n",
       "      <td>0.786306</td>\n",
       "      <td>0.866289</td>\n",
       "      <td>0.173165</td>\n",
       "      <td>No</td>\n",
       "      <td>Yes</td>\n",
       "    </tr>\n",
       "    <tr>\n",
       "      <th>...</th>\n",
       "      <td>...</td>\n",
       "      <td>...</td>\n",
       "      <td>...</td>\n",
       "      <td>...</td>\n",
       "      <td>...</td>\n",
       "      <td>...</td>\n",
       "      <td>...</td>\n",
       "    </tr>\n",
       "    <tr>\n",
       "      <th>9995</th>\n",
       "      <td>0.968924</td>\n",
       "      <td>0.467682</td>\n",
       "      <td>0.090192</td>\n",
       "      <td>0.448410</td>\n",
       "      <td>0.538218</td>\n",
       "      <td>Yes</td>\n",
       "      <td>No</td>\n",
       "    </tr>\n",
       "    <tr>\n",
       "      <th>9996</th>\n",
       "      <td>0.185715</td>\n",
       "      <td>0.355653</td>\n",
       "      <td>0.496808</td>\n",
       "      <td>0.048329</td>\n",
       "      <td>0.853294</td>\n",
       "      <td>Yes</td>\n",
       "      <td>No</td>\n",
       "    </tr>\n",
       "    <tr>\n",
       "      <th>9997</th>\n",
       "      <td>0.371479</td>\n",
       "      <td>0.388439</td>\n",
       "      <td>0.480998</td>\n",
       "      <td>0.370167</td>\n",
       "      <td>0.314440</td>\n",
       "      <td>No</td>\n",
       "      <td>Yes</td>\n",
       "    </tr>\n",
       "    <tr>\n",
       "      <th>9998</th>\n",
       "      <td>0.639484</td>\n",
       "      <td>0.175788</td>\n",
       "      <td>0.390954</td>\n",
       "      <td>0.759243</td>\n",
       "      <td>0.397949</td>\n",
       "      <td>Yes</td>\n",
       "      <td>Yes</td>\n",
       "    </tr>\n",
       "    <tr>\n",
       "      <th>9999</th>\n",
       "      <td>0.138828</td>\n",
       "      <td>0.817233</td>\n",
       "      <td>0.084610</td>\n",
       "      <td>0.700650</td>\n",
       "      <td>0.101911</td>\n",
       "      <td>Yes</td>\n",
       "      <td>No</td>\n",
       "    </tr>\n",
       "  </tbody>\n",
       "</table>\n",
       "<p>10000 rows × 7 columns</p>\n",
       "</div>"
      ],
      "text/plain": [
       "           X_0       X_1       X_2       X_3       X_4  Z_0  Z_1\n",
       "0     0.967030  0.547232  0.972684  0.714816  0.697729   No   No\n",
       "1     0.216089  0.976274  0.006230  0.252982  0.434792  Yes   No\n",
       "2     0.779383  0.197685  0.862993  0.983401  0.163842   No   No\n",
       "3     0.597334  0.008986  0.386571  0.044160  0.956653   No  Yes\n",
       "4     0.436147  0.948977  0.786306  0.866289  0.173165   No  Yes\n",
       "...        ...       ...       ...       ...       ...  ...  ...\n",
       "9995  0.968924  0.467682  0.090192  0.448410  0.538218  Yes   No\n",
       "9996  0.185715  0.355653  0.496808  0.048329  0.853294  Yes   No\n",
       "9997  0.371479  0.388439  0.480998  0.370167  0.314440   No  Yes\n",
       "9998  0.639484  0.175788  0.390954  0.759243  0.397949  Yes  Yes\n",
       "9999  0.138828  0.817233  0.084610  0.700650  0.101911  Yes   No\n",
       "\n",
       "[10000 rows x 7 columns]"
      ]
     },
     "execution_count": 21,
     "metadata": {},
     "output_type": "execute_result"
    }
   ],
   "source": [
    "input_data"
   ]
  },
  {
   "cell_type": "code",
   "execution_count": null,
   "metadata": {},
   "outputs": [],
   "source": []
  }
 ],
 "metadata": {
  "kernelspec": {
   "display_name": "Python 3",
   "language": "python",
   "name": "python3"
  },
  "language_info": {
   "codemirror_mode": {
    "name": "ipython",
    "version": 3
   },
   "file_extension": ".py",
   "mimetype": "text/x-python",
   "name": "python",
   "nbconvert_exporter": "python",
   "pygments_lexer": "ipython3",
   "version": "3.6.10"
  }
 },
 "nbformat": 4,
 "nbformat_minor": 5
}
