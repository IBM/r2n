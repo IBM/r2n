{
 "cells": [
  {
   "cell_type": "code",
   "execution_count": 14,
   "id": "f97db046-3344-4cf3-b28e-3b6549fd5091",
   "metadata": {},
   "outputs": [],
   "source": [
    "import sys\n",
    "sys.path.append('../../')\n",
    "import symlearn.algorithms.r2n.simple_rulenet as rn\n",
    "import symlearn.algorithms.r2n.base as base\n",
    "import symlearn.algorithms.r2n.utilities as util\n",
    "import symlearn.algorithms.r2n.preprocessing_layers as ul\n",
    "import symlearn.algorithms.r2n.r2n_algo as algo\n",
    "from symlearn.algorithms.r2n.training import train as train_R2N\n",
    "import symlearn.trxf.core.utils as trxfutils"
   ]
  },
  {
   "cell_type": "code",
   "execution_count": 15,
   "id": "c6133e5a-b8d7-4ab4-b814-f738bd79f6c9",
   "metadata": {},
   "outputs": [
    {
     "name": "stdout",
     "output_type": "stream",
     "text": [
      "The autoreload extension is already loaded. To reload it, use:\n",
      "  %reload_ext autoreload\n"
     ]
    }
   ],
   "source": [
    "from sklearn.model_selection import train_test_split\n",
    "import pandas as pd\n",
    "import torch\n",
    "from torch import nn\n",
    "from torch.utils.data import DataLoader, Dataset\n",
    "from sklearn.preprocessing import StandardScaler\n",
    "\n",
    "import numpy as np\n",
    "import matplotlib.pylab as plt\n",
    "\n",
    "torch.manual_seed(2)\n",
    "np.random.seed(2)\n",
    "\n",
    "%load_ext autoreload\n",
    "%autoreload 2"
   ]
  },
  {
   "cell_type": "code",
   "execution_count": 16,
   "id": "7b657c6e-bd08-4cbf-986e-294464b56cd8",
   "metadata": {},
   "outputs": [],
   "source": [
    "# Control variables\n",
    "data_loc = 'data/toy_example.csv'\n",
    "label_col = 'y'\n",
    "to_drop = []\n",
    "pos_class = True     # Used only if label_transform = to_binary\n",
    "\n",
    "# Prepare the data\n",
    "data = pd.read_csv(data_loc)\n",
    "data = data.drop(to_drop, axis=1)\n",
    "unique_labels = data[label_col].unique().tolist()\n",
    "data[label_col] = data[label_col]\n",
    "input_data = data.drop(columns=['y', 'Unnamed: 0'])\n",
    "input_data[['Z_0','Z_1']]= input_data[['Z_0','Z_1']].replace(0,'No')\n",
    "input_data[['Z_0','Z_1']]= input_data[['Z_0','Z_1']].replace(1,'Yes')\n",
    "label = data[['y']]"
   ]
  },
  {
   "cell_type": "code",
   "execution_count": 17,
   "id": "353694a9-8f39-419b-ac9c-f8f9a3488dce",
   "metadata": {},
   "outputs": [],
   "source": [
    "#input_data = util.preprocessing_input(input_data)\n",
    "input_train,input_test,label_train, label_test = train_test_split(input_data, label,train_size=0.75)"
   ]
  },
  {
   "cell_type": "code",
   "execution_count": 18,
   "id": "0afa9508-5608-4515-8f50-e406d416c91a",
   "metadata": {},
   "outputs": [],
   "source": [
    "R2run = algo.R2Nalgo(n_seeds=1, decay_rate=0.9, coef = 10**-3, normalize_num=False)"
   ]
  },
  {
   "cell_type": "code",
   "execution_count": 19,
   "id": "8d2691a8-8997-4d83-a168-ce58ea7303b0",
   "metadata": {
    "tags": []
   },
   "outputs": [
    {
     "name": "stdout",
     "output_type": "stream",
     "text": [
      "5 numerical features and  2 categorical features\n",
      "---------\n",
      "4 categorical dummies\n",
      "---------\n",
      "Epoch: 0 Success rate: 9.3 Loss: 69.27712 Temperature: 9.0e-01\n",
      "Epoch: 10 Success rate: 90.7 Loss: 7.05005 Temperature: 3.1e-01\n",
      "Epoch: 20 Success rate: 97.5 Loss: 1.83077 Temperature: 1.1e-01\n",
      "Epoch: 30 Success rate: 99.6 Loss: 0.68996 Temperature: 3.8e-02\n",
      "Epoch: 40 Success rate: 99.8 Loss: 0.44184 Temperature: 1.3e-02\n",
      "Epoch: 50 Success rate: 99.7 Loss: 0.46140 Temperature: 4.6e-03\n",
      "Epoch: 60 Success rate: 99.7 Loss: 0.44051 Temperature: 1.6e-03\n",
      "Epoch: 70 Success rate: 99.8 Loss: 0.43708 Temperature: 5.6e-04\n",
      "Epoch: 80 Success rate: 99.8 Loss: 0.40336 Temperature: 2.0e-04\n",
      "Epoch: 90 Success rate: 99.7 Loss: 0.52863 Temperature: 9.4e-05\n",
      "Epoch: 100 Success rate: 99.8 Loss: 0.43973 Temperature: 9.4e-05\n",
      "---------\n",
      "Max performance of the network: 99.97333333333333\n"
     ]
    }
   ],
   "source": [
    "R2run.fit(input_train, label_train)"
   ]
  },
  {
   "cell_type": "code",
   "execution_count": 20,
   "id": "4613004b-734e-4919-8fcc-25b177d537fe",
   "metadata": {},
   "outputs": [],
   "source": [
    "prediction = R2run.predict(input_test)"
   ]
  },
  {
   "cell_type": "code",
   "execution_count": 21,
   "id": "f190c8fb-0137-4777-80ce-543837ed0514",
   "metadata": {},
   "outputs": [
    {
     "data": {
      "text/plain": [
       "[array([0, 0, 0, 0, 0, 0, 0, 1, 0, 0, 0, 0, 0, 0]),\n",
       " array([0, 0, 0, 0, 0, 0, 0, 0, 1, 0, 0, 0, 1, 0])]"
      ]
     },
     "execution_count": 21,
     "metadata": {},
     "output_type": "execute_result"
    }
   ],
   "source": [
    "R2run.opt_rule"
   ]
  },
  {
   "cell_type": "code",
   "execution_count": 22,
   "id": "6feb523c-2916-40c4-8bc5-06e90535ceb9",
   "metadata": {},
   "outputs": [
    {
     "data": {
      "text/plain": [
       "0.998"
      ]
     },
     "execution_count": 22,
     "metadata": {},
     "output_type": "execute_result"
    }
   ],
   "source": [
    "np.count_nonzero(np.array(prediction).flatten() == np.array(label_test).flatten())/len(label_test)"
   ]
  },
  {
   "cell_type": "code",
   "execution_count": 23,
   "id": "5058331e-aa07-44d0-98ef-b0835e546566",
   "metadata": {},
   "outputs": [
    {
     "name": "stdout",
     "output_type": "stream",
     "text": [
      "if\n",
      "([0.42063054*X_1 + 0.4244901*X_3 - 0.20981455 >= 0]) v\n",
      "([0.43276927*X_0 - 0.21856208 >= 0] ^ [Z_1 == No])\n",
      "then\n",
      "Churn\n"
     ]
    }
   ],
   "source": [
    "print(str(R2run.export_rules_to_trxf_dnf_ruleset(thr=0.1)))"
   ]
  },
  {
   "cell_type": "code",
   "execution_count": 24,
   "id": "ad19c311-c70c-4722-a111-404ed7e5ebb7",
   "metadata": {},
   "outputs": [
    {
     "name": "stdout",
     "output_type": "stream",
     "text": [
      "if\n",
      "([0.42063054*X_1 + 0.4244901*X_3 - 0.20981455 >= 0]) v\n",
      "([0.43276927*X_0 - 0.21856208 >= 0] ^ [Z_1 == No])\n",
      "then\n",
      "Churn\n"
     ]
    }
   ],
   "source": [
    "print(str(R2run.export_rules_to_trxf_dnf_ruleset(thr=0.1)))"
   ]
  },
  {
   "cell_type": "code",
   "execution_count": 25,
   "id": "ede6c0d1-a877-4f3d-ba5b-d208b347ad0d",
   "metadata": {},
   "outputs": [
    {
     "name": "stdout",
     "output_type": "stream",
     "text": [
      "if\n",
      "([0.42063054*X_1 + 0.4244901*X_3 - 0.20981455 >= 0]) v\n",
      "([0.43276927*X_0 - 0.21856208 >= 0] ^ [Z_1 == No])\n",
      "then\n",
      "Churn\n"
     ]
    }
   ],
   "source": [
    "print(str(R2run.export_rules_to_trxf_dnf_ruleset(thr=0.1)))"
   ]
  },
  {
   "cell_type": "code",
   "execution_count": 26,
   "id": "e21d9544-0765-4392-8717-09da161b071f",
   "metadata": {},
   "outputs": [
    {
     "data": {
      "text/plain": [
       "0        True\n",
       "1        True\n",
       "2        True\n",
       "3       False\n",
       "4        True\n",
       "        ...  \n",
       "9995     True\n",
       "9996    False\n",
       "9997     True\n",
       "9998     True\n",
       "9999     True\n",
       "Length: 10000, dtype: bool"
      ]
     },
     "execution_count": 26,
     "metadata": {},
     "output_type": "execute_result"
    }
   ],
   "source": [
    "trxfutils.batch_evaluate(R2run.export_rules_to_trxf_dnf_ruleset(thr=0.1), input_data)"
   ]
  },
  {
   "cell_type": "code",
   "execution_count": 27,
   "id": "ee242869-091b-4cd9-8a5e-92ae482f7ff2",
   "metadata": {},
   "outputs": [
    {
     "data": {
      "text/html": [
       "<div>\n",
       "<style scoped>\n",
       "    .dataframe tbody tr th:only-of-type {\n",
       "        vertical-align: middle;\n",
       "    }\n",
       "\n",
       "    .dataframe tbody tr th {\n",
       "        vertical-align: top;\n",
       "    }\n",
       "\n",
       "    .dataframe thead th {\n",
       "        text-align: right;\n",
       "    }\n",
       "</style>\n",
       "<table border=\"1\" class=\"dataframe\">\n",
       "  <thead>\n",
       "    <tr style=\"text-align: right;\">\n",
       "      <th></th>\n",
       "      <th>X_0</th>\n",
       "      <th>X_1</th>\n",
       "      <th>X_2</th>\n",
       "      <th>X_3</th>\n",
       "      <th>X_4</th>\n",
       "      <th>Z_0</th>\n",
       "      <th>Z_1</th>\n",
       "    </tr>\n",
       "  </thead>\n",
       "  <tbody>\n",
       "    <tr>\n",
       "      <th>0</th>\n",
       "      <td>0.967030</td>\n",
       "      <td>0.547232</td>\n",
       "      <td>0.972684</td>\n",
       "      <td>0.714816</td>\n",
       "      <td>0.697729</td>\n",
       "      <td>No</td>\n",
       "      <td>No</td>\n",
       "    </tr>\n",
       "    <tr>\n",
       "      <th>1</th>\n",
       "      <td>0.216089</td>\n",
       "      <td>0.976274</td>\n",
       "      <td>0.006230</td>\n",
       "      <td>0.252982</td>\n",
       "      <td>0.434792</td>\n",
       "      <td>Yes</td>\n",
       "      <td>No</td>\n",
       "    </tr>\n",
       "    <tr>\n",
       "      <th>2</th>\n",
       "      <td>0.779383</td>\n",
       "      <td>0.197685</td>\n",
       "      <td>0.862993</td>\n",
       "      <td>0.983401</td>\n",
       "      <td>0.163842</td>\n",
       "      <td>No</td>\n",
       "      <td>No</td>\n",
       "    </tr>\n",
       "    <tr>\n",
       "      <th>3</th>\n",
       "      <td>0.597334</td>\n",
       "      <td>0.008986</td>\n",
       "      <td>0.386571</td>\n",
       "      <td>0.044160</td>\n",
       "      <td>0.956653</td>\n",
       "      <td>No</td>\n",
       "      <td>Yes</td>\n",
       "    </tr>\n",
       "    <tr>\n",
       "      <th>4</th>\n",
       "      <td>0.436147</td>\n",
       "      <td>0.948977</td>\n",
       "      <td>0.786306</td>\n",
       "      <td>0.866289</td>\n",
       "      <td>0.173165</td>\n",
       "      <td>No</td>\n",
       "      <td>Yes</td>\n",
       "    </tr>\n",
       "    <tr>\n",
       "      <th>...</th>\n",
       "      <td>...</td>\n",
       "      <td>...</td>\n",
       "      <td>...</td>\n",
       "      <td>...</td>\n",
       "      <td>...</td>\n",
       "      <td>...</td>\n",
       "      <td>...</td>\n",
       "    </tr>\n",
       "    <tr>\n",
       "      <th>9995</th>\n",
       "      <td>0.968924</td>\n",
       "      <td>0.467682</td>\n",
       "      <td>0.090192</td>\n",
       "      <td>0.448410</td>\n",
       "      <td>0.538218</td>\n",
       "      <td>Yes</td>\n",
       "      <td>No</td>\n",
       "    </tr>\n",
       "    <tr>\n",
       "      <th>9996</th>\n",
       "      <td>0.185715</td>\n",
       "      <td>0.355653</td>\n",
       "      <td>0.496808</td>\n",
       "      <td>0.048329</td>\n",
       "      <td>0.853294</td>\n",
       "      <td>Yes</td>\n",
       "      <td>No</td>\n",
       "    </tr>\n",
       "    <tr>\n",
       "      <th>9997</th>\n",
       "      <td>0.371479</td>\n",
       "      <td>0.388439</td>\n",
       "      <td>0.480998</td>\n",
       "      <td>0.370167</td>\n",
       "      <td>0.314440</td>\n",
       "      <td>No</td>\n",
       "      <td>Yes</td>\n",
       "    </tr>\n",
       "    <tr>\n",
       "      <th>9998</th>\n",
       "      <td>0.639484</td>\n",
       "      <td>0.175788</td>\n",
       "      <td>0.390954</td>\n",
       "      <td>0.759243</td>\n",
       "      <td>0.397949</td>\n",
       "      <td>Yes</td>\n",
       "      <td>Yes</td>\n",
       "    </tr>\n",
       "    <tr>\n",
       "      <th>9999</th>\n",
       "      <td>0.138828</td>\n",
       "      <td>0.817233</td>\n",
       "      <td>0.084610</td>\n",
       "      <td>0.700650</td>\n",
       "      <td>0.101911</td>\n",
       "      <td>Yes</td>\n",
       "      <td>No</td>\n",
       "    </tr>\n",
       "  </tbody>\n",
       "</table>\n",
       "<p>10000 rows × 7 columns</p>\n",
       "</div>"
      ],
      "text/plain": [
       "           X_0       X_1       X_2       X_3       X_4  Z_0  Z_1\n",
       "0     0.967030  0.547232  0.972684  0.714816  0.697729   No   No\n",
       "1     0.216089  0.976274  0.006230  0.252982  0.434792  Yes   No\n",
       "2     0.779383  0.197685  0.862993  0.983401  0.163842   No   No\n",
       "3     0.597334  0.008986  0.386571  0.044160  0.956653   No  Yes\n",
       "4     0.436147  0.948977  0.786306  0.866289  0.173165   No  Yes\n",
       "...        ...       ...       ...       ...       ...  ...  ...\n",
       "9995  0.968924  0.467682  0.090192  0.448410  0.538218  Yes   No\n",
       "9996  0.185715  0.355653  0.496808  0.048329  0.853294  Yes   No\n",
       "9997  0.371479  0.388439  0.480998  0.370167  0.314440   No  Yes\n",
       "9998  0.639484  0.175788  0.390954  0.759243  0.397949  Yes  Yes\n",
       "9999  0.138828  0.817233  0.084610  0.700650  0.101911  Yes   No\n",
       "\n",
       "[10000 rows x 7 columns]"
      ]
     },
     "execution_count": 27,
     "metadata": {},
     "output_type": "execute_result"
    }
   ],
   "source": [
    "input_data"
   ]
  },
  {
   "cell_type": "code",
   "execution_count": null,
   "id": "f2bfc355-90e5-4954-80b2-15afb55ad1cd",
   "metadata": {},
   "outputs": [],
   "source": []
  }
 ],
 "metadata": {
  "kernelspec": {
   "display_name": "venv",
   "language": "python",
   "name": "python3"
  },
  "language_info": {
   "codemirror_mode": {
    "name": "ipython",
    "version": 3
   },
   "file_extension": ".py",
   "mimetype": "text/x-python",
   "name": "python",
   "nbconvert_exporter": "python",
   "pygments_lexer": "ipython3",
   "version": "3.10.7"
  },
  "vscode": {
   "interpreter": {
    "hash": "3e1935304aa3059290595210d1900077124b55a5ec735b9c878606af39f45ea6"
   }
  }
 },
 "nbformat": 4,
 "nbformat_minor": 5
}
