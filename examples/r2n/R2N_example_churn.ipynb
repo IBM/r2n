{
 "cells": [
  {
   "cell_type": "code",
   "execution_count": 1,
   "id": "f97db046-3344-4cf3-b28e-3b6549fd5091",
   "metadata": {},
   "outputs": [],
   "source": [
    "import sys\n",
    "sys.path.append('../../')\n",
    "import rulelearn.algorithms.r2n.simple_rulenet as rn\n",
    "import rulelearn.algorithms.r2n.base as base\n",
    "import rulelearn.algorithms.r2n.utilities as util\n",
    "import rulelearn.algorithms.r2n.preprocessing_layers as ul\n",
    "import rulelearn.algorithms.r2n.r2n_algo as algo\n",
    "from rulelearn.algorithms.r2n.training import train as train_R2N"
   ]
  },
  {
   "cell_type": "code",
   "execution_count": 2,
   "id": "c6133e5a-b8d7-4ab4-b814-f738bd79f6c9",
   "metadata": {},
   "outputs": [],
   "source": [
    "from sklearn.model_selection import train_test_split\n",
    "import pandas as pd\n",
    "import torch\n",
    "from torch import nn\n",
    "from torch.utils.data import DataLoader, Dataset\n",
    "from sklearn.preprocessing import StandardScaler\n",
    "\n",
    "import numpy as np\n",
    "import matplotlib.pylab as plt\n",
    "\n",
    "torch.manual_seed(2)\n",
    "np.random.seed(2)\n",
    "\n",
    "%load_ext autoreload\n",
    "%autoreload 2"
   ]
  },
  {
   "cell_type": "code",
   "execution_count": 3,
   "id": "8ad112cc-8298-4b5c-9978-c7a2faffdd70",
   "metadata": {},
   "outputs": [],
   "source": [
    "# Control variables\n",
    "data_loc = 'data/churn_prob_out_35.csv'\n",
    "label_col = 'CHURN'\n",
    "to_drop = ['Id','CHURN','3_Class','5_Class','is_test_set','pChurn']"
   ]
  },
  {
   "cell_type": "code",
   "execution_count": 4,
   "id": "6c26b6a2-0752-4857-8473-84e3b010ed32",
   "metadata": {},
   "outputs": [],
   "source": [
    "# Prepare the data\n",
    "data = pd.read_csv(data_loc)"
   ]
  },
  {
   "cell_type": "code",
   "execution_count": 5,
   "id": "d7b7c14b-7903-4560-8af3-5f06d6e18932",
   "metadata": {},
   "outputs": [],
   "source": [
    "input_data = data.drop(columns=to_drop)\n",
    "label = data[[label_col]]\n",
    "label= label.replace('F',0)\n",
    "label= label.replace('T',1)"
   ]
  },
  {
   "cell_type": "code",
   "execution_count": 6,
   "id": "353694a9-8f39-419b-ac9c-f8f9a3488dce",
   "metadata": {},
   "outputs": [],
   "source": [
    "input_train,input_test,label_train, label_test = train_test_split(input_data, label,train_size=0.75) "
   ]
  },
  {
   "cell_type": "code",
   "execution_count": 7,
   "id": "5a8020d9-9b34-463f-b4dc-05e03682c292",
   "metadata": {},
   "outputs": [
    {
     "data": {
      "text/html": [
       "<div>\n",
       "<style scoped>\n",
       "    .dataframe tbody tr th:only-of-type {\n",
       "        vertical-align: middle;\n",
       "    }\n",
       "\n",
       "    .dataframe tbody tr th {\n",
       "        vertical-align: top;\n",
       "    }\n",
       "\n",
       "    .dataframe thead th {\n",
       "        text-align: right;\n",
       "    }\n",
       "</style>\n",
       "<table border=\"1\" class=\"dataframe\">\n",
       "  <thead>\n",
       "    <tr style=\"text-align: right;\">\n",
       "      <th></th>\n",
       "      <th>Gender</th>\n",
       "      <th>Status</th>\n",
       "      <th>Children</th>\n",
       "      <th>EstIncome</th>\n",
       "      <th>CarOwner</th>\n",
       "      <th>Age</th>\n",
       "      <th>Paymethod</th>\n",
       "      <th>Usage</th>\n",
       "      <th>RatePlan</th>\n",
       "    </tr>\n",
       "  </thead>\n",
       "  <tbody>\n",
       "    <tr>\n",
       "      <th>0</th>\n",
       "      <td>F</td>\n",
       "      <td>S</td>\n",
       "      <td>1</td>\n",
       "      <td>38000.00</td>\n",
       "      <td>N</td>\n",
       "      <td>24.393333</td>\n",
       "      <td>CC</td>\n",
       "      <td>229.64</td>\n",
       "      <td>3</td>\n",
       "    </tr>\n",
       "    <tr>\n",
       "      <th>1</th>\n",
       "      <td>M</td>\n",
       "      <td>M</td>\n",
       "      <td>2</td>\n",
       "      <td>29616.00</td>\n",
       "      <td>N</td>\n",
       "      <td>49.426667</td>\n",
       "      <td>CH</td>\n",
       "      <td>75.29</td>\n",
       "      <td>2</td>\n",
       "    </tr>\n",
       "    <tr>\n",
       "      <th>2</th>\n",
       "      <td>M</td>\n",
       "      <td>M</td>\n",
       "      <td>0</td>\n",
       "      <td>19732.80</td>\n",
       "      <td>N</td>\n",
       "      <td>50.673333</td>\n",
       "      <td>CC</td>\n",
       "      <td>47.25</td>\n",
       "      <td>3</td>\n",
       "    </tr>\n",
       "    <tr>\n",
       "      <th>3</th>\n",
       "      <td>M</td>\n",
       "      <td>S</td>\n",
       "      <td>2</td>\n",
       "      <td>96.33</td>\n",
       "      <td>N</td>\n",
       "      <td>56.473333</td>\n",
       "      <td>CC</td>\n",
       "      <td>59.01</td>\n",
       "      <td>1</td>\n",
       "    </tr>\n",
       "    <tr>\n",
       "      <th>4</th>\n",
       "      <td>F</td>\n",
       "      <td>M</td>\n",
       "      <td>2</td>\n",
       "      <td>52004.80</td>\n",
       "      <td>N</td>\n",
       "      <td>25.140000</td>\n",
       "      <td>CH</td>\n",
       "      <td>28.14</td>\n",
       "      <td>1</td>\n",
       "    </tr>\n",
       "    <tr>\n",
       "      <th>...</th>\n",
       "      <td>...</td>\n",
       "      <td>...</td>\n",
       "      <td>...</td>\n",
       "      <td>...</td>\n",
       "      <td>...</td>\n",
       "      <td>...</td>\n",
       "      <td>...</td>\n",
       "      <td>...</td>\n",
       "      <td>...</td>\n",
       "    </tr>\n",
       "    <tr>\n",
       "      <th>1794</th>\n",
       "      <td>M</td>\n",
       "      <td>D</td>\n",
       "      <td>1</td>\n",
       "      <td>90478.60</td>\n",
       "      <td>N</td>\n",
       "      <td>54.553333</td>\n",
       "      <td>CC</td>\n",
       "      <td>154.49</td>\n",
       "      <td>4</td>\n",
       "    </tr>\n",
       "    <tr>\n",
       "      <th>1795</th>\n",
       "      <td>F</td>\n",
       "      <td>M</td>\n",
       "      <td>2</td>\n",
       "      <td>56187.00</td>\n",
       "      <td>N</td>\n",
       "      <td>41.000000</td>\n",
       "      <td>CH</td>\n",
       "      <td>21.83</td>\n",
       "      <td>2</td>\n",
       "    </tr>\n",
       "    <tr>\n",
       "      <th>1796</th>\n",
       "      <td>F</td>\n",
       "      <td>S</td>\n",
       "      <td>1</td>\n",
       "      <td>42000.00</td>\n",
       "      <td>N</td>\n",
       "      <td>24.393333</td>\n",
       "      <td>CC</td>\n",
       "      <td>229.64</td>\n",
       "      <td>3</td>\n",
       "    </tr>\n",
       "    <tr>\n",
       "      <th>1797</th>\n",
       "      <td>M</td>\n",
       "      <td>M</td>\n",
       "      <td>0</td>\n",
       "      <td>9780.66</td>\n",
       "      <td>N</td>\n",
       "      <td>24.546667</td>\n",
       "      <td>CC</td>\n",
       "      <td>21.39</td>\n",
       "      <td>2</td>\n",
       "    </tr>\n",
       "    <tr>\n",
       "      <th>1798</th>\n",
       "      <td>M</td>\n",
       "      <td>M</td>\n",
       "      <td>2</td>\n",
       "      <td>53010.80</td>\n",
       "      <td>N</td>\n",
       "      <td>18.840000</td>\n",
       "      <td>CC</td>\n",
       "      <td>58.87</td>\n",
       "      <td>3</td>\n",
       "    </tr>\n",
       "  </tbody>\n",
       "</table>\n",
       "<p>1799 rows × 9 columns</p>\n",
       "</div>"
      ],
      "text/plain": [
       "     Gender Status  Children  EstIncome CarOwner        Age Paymethod   Usage  \\\n",
       "0         F      S         1   38000.00        N  24.393333        CC  229.64   \n",
       "1         M      M         2   29616.00        N  49.426667        CH   75.29   \n",
       "2         M      M         0   19732.80        N  50.673333        CC   47.25   \n",
       "3         M      S         2      96.33        N  56.473333        CC   59.01   \n",
       "4         F      M         2   52004.80        N  25.140000        CH   28.14   \n",
       "...     ...    ...       ...        ...      ...        ...       ...     ...   \n",
       "1794      M      D         1   90478.60        N  54.553333        CC  154.49   \n",
       "1795      F      M         2   56187.00        N  41.000000        CH   21.83   \n",
       "1796      F      S         1   42000.00        N  24.393333        CC  229.64   \n",
       "1797      M      M         0    9780.66        N  24.546667        CC   21.39   \n",
       "1798      M      M         2   53010.80        N  18.840000        CC   58.87   \n",
       "\n",
       "      RatePlan  \n",
       "0            3  \n",
       "1            2  \n",
       "2            3  \n",
       "3            1  \n",
       "4            1  \n",
       "...        ...  \n",
       "1794         4  \n",
       "1795         2  \n",
       "1796         3  \n",
       "1797         2  \n",
       "1798         3  \n",
       "\n",
       "[1799 rows x 9 columns]"
      ]
     },
     "execution_count": 7,
     "metadata": {},
     "output_type": "execute_result"
    }
   ],
   "source": [
    "input_data"
   ]
  },
  {
   "cell_type": "code",
   "execution_count": 8,
   "id": "0abacb4e-eba7-43b0-ada7-7b5e11056474",
   "metadata": {},
   "outputs": [],
   "source": [
    "cat_cols = ['Gender','Status','Children','CarOwner', 'Paymethod']\n",
    "num_cols = ['EstIncome','Age', 'Usage', 'RatePlan']\n",
    "# NOTE : R2N requires that column names do not have whitespace or arithmetic operators"
   ]
  },
  {
   "cell_type": "code",
   "execution_count": 9,
   "id": "0afa9508-5608-4515-8f50-e406d416c91a",
   "metadata": {},
   "outputs": [],
   "source": [
    "R2run = algo.R2Nalgo(cat_columns=cat_cols, num_columns = num_cols, n_seeds=1, min_temp = 10**-4, decay_rate=0.98, coef = 5*10**-4, normalize_num=True,negation=False)"
   ]
  },
  {
   "cell_type": "code",
   "execution_count": 10,
   "id": "8d2691a8-8997-4d83-a168-ce58ea7303b0",
   "metadata": {
    "tags": []
   },
   "outputs": [
    {
     "name": "stdout",
     "output_type": "stream",
     "text": [
      "4 numerical features and  5 categorical features\n",
      "---------\n",
      "13 categorical dummies\n",
      "---------\n",
      "Epoch: 0 Success rate: 58.8 Loss: 5.91878 Temperature: 9.8e-01\n",
      "Epoch: 10 Success rate: 58.8 Loss: 5.87950 Temperature: 8.0e-01\n",
      "Epoch: 20 Success rate: 58.8 Loss: 5.84946 Temperature: 6.5e-01\n",
      "Epoch: 30 Success rate: 58.8 Loss: 5.82898 Temperature: 5.3e-01\n",
      "Epoch: 40 Success rate: 58.8 Loss: 5.81734 Temperature: 4.4e-01\n",
      "Epoch: 50 Success rate: 58.1 Loss: 4.08421 Temperature: 3.6e-01\n",
      "Epoch: 60 Success rate: 73.5 Loss: 2.75227 Temperature: 2.9e-01\n",
      "Epoch: 70 Success rate: 76.6 Loss: 2.38626 Temperature: 2.4e-01\n",
      "Epoch: 80 Success rate: 80.4 Loss: 1.99968 Temperature: 1.9e-01\n",
      "Epoch: 90 Success rate: 85.5 Loss: 1.65741 Temperature: 1.6e-01\n",
      "Epoch: 100 Success rate: 88.1 Loss: 1.47406 Temperature: 1.3e-01\n",
      "Epoch: 110 Success rate: 89.3 Loss: 1.31030 Temperature: 1.1e-01\n",
      "Epoch: 120 Success rate: 89.8 Loss: 1.21900 Temperature: 8.7e-02\n",
      "Epoch: 130 Success rate: 90.2 Loss: 1.16660 Temperature: 7.1e-02\n",
      "Epoch: 140 Success rate: 90.8 Loss: 1.08682 Temperature: 5.8e-02\n",
      "Epoch: 150 Success rate: 91.0 Loss: 1.04868 Temperature: 4.7e-02\n",
      "Epoch: 160 Success rate: 91.2 Loss: 1.02663 Temperature: 3.9e-02\n",
      "Epoch: 170 Success rate: 91.6 Loss: 1.00106 Temperature: 3.2e-02\n",
      "Epoch: 180 Success rate: 92.4 Loss: 0.97219 Temperature: 2.6e-02\n",
      "Epoch: 190 Success rate: 93.1 Loss: 0.93508 Temperature: 2.1e-02\n",
      "Epoch: 200 Success rate: 93.2 Loss: 0.93373 Temperature: 1.7e-02\n",
      "Epoch: 210 Success rate: 93.5 Loss: 0.91922 Temperature: 1.4e-02\n",
      "Epoch: 220 Success rate: 93.4 Loss: 0.91974 Temperature: 1.2e-02\n",
      "Epoch: 230 Success rate: 93.3 Loss: 0.92307 Temperature: 9.4e-03\n",
      "Epoch: 240 Success rate: 93.3 Loss: 0.91508 Temperature: 7.7e-03\n",
      "Epoch: 250 Success rate: 93.1 Loss: 0.92702 Temperature: 6.3e-03\n",
      "Epoch: 260 Success rate: 93.2 Loss: 0.91403 Temperature: 5.1e-03\n",
      "Epoch: 270 Success rate: 93.0 Loss: 0.90749 Temperature: 4.2e-03\n",
      "Epoch: 280 Success rate: 93.2 Loss: 0.90819 Temperature: 3.4e-03\n",
      "Epoch: 290 Success rate: 92.8 Loss: 0.92681 Temperature: 2.8e-03\n",
      "Epoch: 300 Success rate: 93.1 Loss: 0.91244 Temperature: 2.3e-03\n",
      "Epoch: 310 Success rate: 93.0 Loss: 0.92315 Temperature: 1.9e-03\n",
      "Epoch: 320 Success rate: 93.0 Loss: 0.93378 Temperature: 1.5e-03\n",
      "Epoch: 330 Success rate: 92.4 Loss: 0.95929 Temperature: 1.2e-03\n",
      "Epoch: 340 Success rate: 92.2 Loss: 0.99212 Temperature: 1.0e-03\n",
      "Epoch: 350 Success rate: 90.8 Loss: 1.04938 Temperature: 8.3e-04\n",
      "Epoch: 360 Success rate: 91.4 Loss: 1.05810 Temperature: 6.8e-04\n",
      "Epoch: 370 Success rate: 90.6 Loss: 1.13482 Temperature: 5.6e-04\n",
      "Epoch: 380 Success rate: 89.1 Loss: 1.25817 Temperature: 4.5e-04\n",
      "Epoch: 390 Success rate: 89.4 Loss: 1.39635 Temperature: 3.7e-04\n",
      "Epoch: 400 Success rate: 90.0 Loss: 1.39398 Temperature: 3.0e-04\n",
      "Epoch: 410 Success rate: 88.4 Loss: 1.42605 Temperature: 2.5e-04\n",
      "Epoch: 420 Success rate: 88.7 Loss: 1.45129 Temperature: 2.0e-04\n",
      "Epoch: 430 Success rate: 89.1 Loss: 1.43077 Temperature: 1.7e-04\n",
      "Epoch: 440 Success rate: 88.7 Loss: 1.48641 Temperature: 1.4e-04\n",
      "Epoch: 450 Success rate: 88.5 Loss: 1.46355 Temperature: 1.1e-04\n",
      "Epoch: 460 Success rate: 88.7 Loss: 1.49988 Temperature: 1.0e-04\n",
      "Epoch: 470 Success rate: 88.7 Loss: 1.49458 Temperature: 1.0e-04\n",
      "Epoch: 480 Success rate: 88.7 Loss: 1.49024 Temperature: 1.0e-04\n",
      "Epoch: 490 Success rate: 88.7 Loss: 1.48665 Temperature: 1.0e-04\n",
      "Epoch: 500 Success rate: 88.6 Loss: 1.58690 Temperature: 1.0e-04\n",
      "Epoch: 510 Success rate: 88.9 Loss: 1.59517 Temperature: 1.0e-04\n",
      "Epoch: 520 Success rate: 89.2 Loss: 1.55355 Temperature: 1.0e-04\n",
      "Epoch: 530 Success rate: 89.3 Loss: 1.54355 Temperature: 1.0e-04\n",
      "Epoch: 540 Success rate: 89.4 Loss: 1.52348 Temperature: 1.0e-04\n",
      "---------\n",
      "Max performance of the network: 89.35714285714286\n"
     ]
    }
   ],
   "source": [
    "R2run.fit(input_train, label_train)"
   ]
  },
  {
   "cell_type": "code",
   "execution_count": 11,
   "id": "4613004b-734e-4919-8fcc-25b177d537fe",
   "metadata": {},
   "outputs": [],
   "source": [
    "prediction = R2run.predict(input_test)"
   ]
  },
  {
   "cell_type": "code",
   "execution_count": 12,
   "id": "6feb523c-2916-40c4-8bc5-06e90535ceb9",
   "metadata": {},
   "outputs": [
    {
     "data": {
      "text/plain": [
       "0.86"
      ]
     },
     "execution_count": 12,
     "metadata": {},
     "output_type": "execute_result"
    }
   ],
   "source": [
    "np.count_nonzero(np.array(prediction).flatten() == np.array(label_test).flatten())/len(label_test)"
   ]
  },
  {
   "cell_type": "code",
   "execution_count": 13,
   "id": "aa175fee-d8b2-4940-b3c2-0a48c1c5bc7b",
   "metadata": {},
   "outputs": [
    {
     "name": "stdout",
     "output_type": "stream",
     "text": [
      "if\n",
      "([-3.0719568e-06*EstIncome - 0.011073619*Age + 0.41905272 >= 0] ^ [Gender == F] ^ [CarOwner == N]) v\n",
      "([4.235193e-06*EstIncome + 0.00245478*Age + 0.0023219697*Usage + 0.028453792*RatePlan - 0.4903672 >= 0] ^ [-8.199226e-06*EstIncome - 0.0060453876*Age - 0.00047677557*Usage + 0.06189673*RatePlan + 0.5222411 >= 0] ^ [Children == 1] ^ [Paymethod == CC]) v\n",
      "([-4.3862556e-06*EstIncome + 0.0013715553*Usage - 0.06675427*RatePlan + 0.35130543 >= 0] ^ [-3.0719568e-06*EstIncome - 0.011073619*Age + 0.41905272 >= 0] ^ [4.235193e-06*EstIncome + 0.00245478*Age + 0.0023219697*Usage + 0.028453792*RatePlan - 0.4903672 >= 0] ^ [Gender == M] ^ [Status == S]) v\n",
      "([-3.3245412e-06*EstIncome + 0.021272553*RatePlan + 0.074754454 >= 0] ^ [2.327939e-06*EstIncome + 0.0028196916*Age + 0.00283685*Usage - 0.37616417 >= 0] ^ [-6.1245596e-06*EstIncome + 0.017771019*Age - 0.00060199713*Usage - 0.14333951 >= 0] ^ [-8.199226e-06*EstIncome - 0.0060453876*Age - 0.00047677557*Usage + 0.06189673*RatePlan + 0.5222411 >= 0] ^ [Children == 2] ^ [Paymethod == Auto]) v\n",
      "([-3.3245412e-06*EstIncome + 0.021272553*RatePlan + 0.074754454 >= 0] ^ [Gender == F] ^ [Status == S] ^ [Paymethod == CC]) v\n",
      "([-4.3862556e-06*EstIncome + 0.0013715553*Usage - 0.06675427*RatePlan + 0.35130543 >= 0] ^ [Status == D] ^ [Status == S]) v\n",
      "([-6.1245596e-06*EstIncome + 0.017771019*Age - 0.00060199713*Usage - 0.14333951 >= 0] ^ [-8.199226e-06*EstIncome - 0.0060453876*Age - 0.00047677557*Usage + 0.06189673*RatePlan + 0.5222411 >= 0] ^ [Status == S] ^ [Paymethod == Auto]) v\n",
      "([-4.3862556e-06*EstIncome + 0.0013715553*Usage - 0.06675427*RatePlan + 0.35130543 >= 0] ^ [-3.0719568e-06*EstIncome - 0.011073619*Age + 0.41905272 >= 0] ^ [CarOwner == N] ^ [CarOwner == Y]) v\n",
      "([2.327939e-06*EstIncome + 0.0028196916*Age + 0.00283685*Usage - 0.37616417 >= 0] ^ [Paymethod == CH]) v\n",
      "([-4.3862556e-06*EstIncome + 0.0013715553*Usage - 0.06675427*RatePlan + 0.35130543 >= 0] ^ [-3.3245412e-06*EstIncome + 0.021272553*RatePlan + 0.074754454 >= 0] ^ [-3.0719568e-06*EstIncome - 0.011073619*Age + 0.41905272 >= 0] ^ [-8.199226e-06*EstIncome - 0.0060453876*Age - 0.00047677557*Usage + 0.06189673*RatePlan + 0.5222411 >= 0] ^ [Gender == F] ^ [Paymethod == CC]) v\n",
      "([4.235193e-06*EstIncome + 0.00245478*Age + 0.0023219697*Usage + 0.028453792*RatePlan - 0.4903672 >= 0] ^ [2.327939e-06*EstIncome + 0.0028196916*Age + 0.00283685*Usage - 0.37616417 >= 0] ^ [-6.1245596e-06*EstIncome + 0.017771019*Age - 0.00060199713*Usage - 0.14333951 >= 0] ^ [4.982448e-06*EstIncome - 0.00580055*Age + 0.00040386425*Usage - 0.07078043 >= 0] ^ [Gender == M])\n",
      "then\n",
      "Churn\n"
     ]
    }
   ],
   "source": [
    "print(str(R2run.export_rules_to_trxf_dnf_ruleset(thr=0.1)))"
   ]
  },
  {
   "cell_type": "code",
   "execution_count": 14,
   "id": "a52c4c4a-cb22-4820-89fc-05516b5fc59b",
   "metadata": {},
   "outputs": [
    {
     "name": "stdout",
     "output_type": "stream",
     "text": [
      "if\n",
      "([-3.0719568e-06*EstIncome - 0.011073619*Age - 9.73349e-07*Usage - 0.0003543593*RatePlan + 0.41905272 >= 0] ^ [Gender == F] ^ [CarOwner == N]) v\n",
      "([4.235193e-06*EstIncome + 0.00245478*Age + 0.0023219697*Usage + 0.028453792*RatePlan - 0.4903672 >= 0] ^ [-8.199226e-06*EstIncome - 0.0060453876*Age - 0.00047677557*Usage + 0.06189673*RatePlan + 0.5222411 >= 0] ^ [Children == 1] ^ [Paymethod == CC]) v\n",
      "([-4.3862556e-06*EstIncome - 0.0004928683*Age + 0.0013715553*Usage - 0.06675427*RatePlan + 0.35130543 >= 0] ^ [-3.0719568e-06*EstIncome - 0.011073619*Age - 9.73349e-07*Usage - 0.0003543593*RatePlan + 0.41905272 >= 0] ^ [4.235193e-06*EstIncome + 0.00245478*Age + 0.0023219697*Usage + 0.028453792*RatePlan - 0.4903672 >= 0] ^ [Gender == M] ^ [Status == S]) v\n",
      "([-3.3245412e-06*EstIncome + 0.00015770689*Age - 1.6373829e-08*Usage + 0.021272553*RatePlan + 0.074754454 >= 0] ^ [2.327939e-06*EstIncome + 0.0028196916*Age + 0.00283685*Usage - 0.003067519*RatePlan - 0.37616417 >= 0] ^ [-6.1245596e-06*EstIncome + 0.017771019*Age - 0.00060199713*Usage - 7.0751884e-07*RatePlan - 0.14333951 >= 0] ^ [-8.199226e-06*EstIncome - 0.0060453876*Age - 0.00047677557*Usage + 0.06189673*RatePlan + 0.5222411 >= 0] ^ [Children == 2] ^ [Paymethod == Auto]) v\n",
      "([-3.3245412e-06*EstIncome + 0.00015770689*Age - 1.6373829e-08*Usage + 0.021272553*RatePlan + 0.074754454 >= 0] ^ [Gender == F] ^ [Status == S] ^ [Paymethod == CC]) v\n",
      "([-4.3862556e-06*EstIncome - 0.0004928683*Age + 0.0013715553*Usage - 0.06675427*RatePlan + 0.35130543 >= 0] ^ [Status == D] ^ [Status == S]) v\n",
      "([-6.1245596e-06*EstIncome + 0.017771019*Age - 0.00060199713*Usage - 7.0751884e-07*RatePlan - 0.14333951 >= 0] ^ [-8.199226e-06*EstIncome - 0.0060453876*Age - 0.00047677557*Usage + 0.06189673*RatePlan + 0.5222411 >= 0] ^ [Status == S] ^ [Paymethod == Auto]) v\n",
      "([-4.3862556e-06*EstIncome - 0.0004928683*Age + 0.0013715553*Usage - 0.06675427*RatePlan + 0.35130543 >= 0] ^ [-3.0719568e-06*EstIncome - 0.011073619*Age - 9.73349e-07*Usage - 0.0003543593*RatePlan + 0.41905272 >= 0] ^ [CarOwner == N] ^ [CarOwner == Y]) v\n",
      "([2.327939e-06*EstIncome + 0.0028196916*Age + 0.00283685*Usage - 0.003067519*RatePlan - 0.37616417 >= 0] ^ [Paymethod == CH]) v\n",
      "([-4.3862556e-06*EstIncome - 0.0004928683*Age + 0.0013715553*Usage - 0.06675427*RatePlan + 0.35130543 >= 0] ^ [-3.3245412e-06*EstIncome + 0.00015770689*Age - 1.6373829e-08*Usage + 0.021272553*RatePlan + 0.074754454 >= 0] ^ [-3.0719568e-06*EstIncome - 0.011073619*Age - 9.73349e-07*Usage - 0.0003543593*RatePlan + 0.41905272 >= 0] ^ [-8.199226e-06*EstIncome - 0.0060453876*Age - 0.00047677557*Usage + 0.06189673*RatePlan + 0.5222411 >= 0] ^ [Gender == F] ^ [Paymethod == CC]) v\n",
      "([4.235193e-06*EstIncome + 0.00245478*Age + 0.0023219697*Usage + 0.028453792*RatePlan - 0.4903672 >= 0] ^ [2.327939e-06*EstIncome + 0.0028196916*Age + 0.00283685*Usage - 0.003067519*RatePlan - 0.37616417 >= 0] ^ [-6.1245596e-06*EstIncome + 0.017771019*Age - 0.00060199713*Usage - 7.0751884e-07*RatePlan - 0.14333951 >= 0] ^ [4.982448e-06*EstIncome - 0.00580055*Age + 0.00040386425*Usage + 6.146131e-08*RatePlan - 0.07078043 >= 0] ^ [Gender == M])\n",
      "then\n",
      "Churn\n"
     ]
    }
   ],
   "source": [
    "print(str(R2run.export_rules_to_trxf_dnf_ruleset()))"
   ]
  },
  {
   "cell_type": "code",
   "execution_count": null,
   "id": "acf4ca94-08b9-4b03-b369-978af9cad730",
   "metadata": {},
   "outputs": [],
   "source": []
  },
  {
   "cell_type": "code",
   "execution_count": null,
   "id": "6b0772ae-6ab0-4c99-a991-c4dc9e2ae3b9",
   "metadata": {},
   "outputs": [],
   "source": []
  }
 ],
 "metadata": {
  "kernelspec": {
   "display_name": "venv",
   "language": "python",
   "name": "python3"
  },
  "language_info": {
   "codemirror_mode": {
    "name": "ipython",
    "version": 3
   },
   "file_extension": ".py",
   "mimetype": "text/x-python",
   "name": "python",
   "nbconvert_exporter": "python",
   "pygments_lexer": "ipython3",
   "version": "3.10.7"
  },
  "vscode": {
   "interpreter": {
    "hash": "3e1935304aa3059290595210d1900077124b55a5ec735b9c878606af39f45ea6"
   }
  }
 },
 "nbformat": 4,
 "nbformat_minor": 5
}
